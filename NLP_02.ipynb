{
  "cells": [
    {
      "cell_type": "code",
      "source": [
        "import time\n",
        "start_time = time.time()"
      ],
      "metadata": {
        "id": "bxZbOflPz0Xc"
      },
      "execution_count": null,
      "outputs": []
    },
    {
      "cell_type": "code",
      "execution_count": 36,
      "metadata": {
        "id": "I9wdhWBujoXV"
      },
      "outputs": [],
      "source": [
        "import pandas as pd\n",
        "import numpy as np\n",
        "import re\n",
        "import string\n",
        "import spacy\n",
        "\n",
        "from sklearn.feature_extraction.text import CountVectorizer, TfidfTransformer, TfidfVectorizer\n",
        "from sklearn.feature_extraction._stop_words import ENGLISH_STOP_WORDS\n",
        "\n",
        "from sklearn.linear_model import LogisticRegression\n",
        "from sklearn.tree import DecisionTreeClassifier\n",
        "from sklearn.naive_bayes import BernoulliNB, MultinomialNB, ComplementNB\n",
        "\n",
        "from sklearn.metrics import classification_report, accuracy_score, recall_score\n",
        "from sklearn.pipeline import Pipeline\n",
        "from sklearn.experimental import enable_halving_search_cv\n",
        "from sklearn.model_selection import HalvingGridSearchCV, KFold, cross_val_score, train_test_split, StratifiedKFold, GridSearchCV\n",
        "\n",
        "import matplotlib.pyplot as plt"
      ]
    },
    {
      "cell_type": "code",
      "execution_count": 2,
      "metadata": {
        "colab": {
          "base_uri": "https://localhost:8080/"
        },
        "id": "t7jv_mK_pfnL",
        "outputId": "2debc1d7-6e8f-439e-b28b-d28c9e380eb2"
      },
      "outputs": [
        {
          "output_type": "stream",
          "name": "stdout",
          "text": [
            "2023-10-03 16:07:30.404319: W tensorflow/compiler/tf2tensorrt/utils/py_utils.cc:38] TF-TRT Warning: Could not find TensorRT\n",
            "Collecting en-core-web-sm==3.6.0\n",
            "  Downloading https://github.com/explosion/spacy-models/releases/download/en_core_web_sm-3.6.0/en_core_web_sm-3.6.0-py3-none-any.whl (12.8 MB)\n",
            "\u001b[2K     \u001b[90m━━━━━━━━━━━━━━━━━━━━━━━━━━━━━━━━━━━━━━━━\u001b[0m \u001b[32m12.8/12.8 MB\u001b[0m \u001b[31m75.1 MB/s\u001b[0m eta \u001b[36m0:00:00\u001b[0m\n",
            "\u001b[?25hRequirement already satisfied: spacy<3.7.0,>=3.6.0 in /usr/local/lib/python3.10/dist-packages (from en-core-web-sm==3.6.0) (3.6.1)\n",
            "Requirement already satisfied: spacy-legacy<3.1.0,>=3.0.11 in /usr/local/lib/python3.10/dist-packages (from spacy<3.7.0,>=3.6.0->en-core-web-sm==3.6.0) (3.0.12)\n",
            "Requirement already satisfied: spacy-loggers<2.0.0,>=1.0.0 in /usr/local/lib/python3.10/dist-packages (from spacy<3.7.0,>=3.6.0->en-core-web-sm==3.6.0) (1.0.4)\n",
            "Requirement already satisfied: murmurhash<1.1.0,>=0.28.0 in /usr/local/lib/python3.10/dist-packages (from spacy<3.7.0,>=3.6.0->en-core-web-sm==3.6.0) (1.0.9)\n",
            "Requirement already satisfied: cymem<2.1.0,>=2.0.2 in /usr/local/lib/python3.10/dist-packages (from spacy<3.7.0,>=3.6.0->en-core-web-sm==3.6.0) (2.0.7)\n",
            "Requirement already satisfied: preshed<3.1.0,>=3.0.2 in /usr/local/lib/python3.10/dist-packages (from spacy<3.7.0,>=3.6.0->en-core-web-sm==3.6.0) (3.0.8)\n",
            "Requirement already satisfied: thinc<8.2.0,>=8.1.8 in /usr/local/lib/python3.10/dist-packages (from spacy<3.7.0,>=3.6.0->en-core-web-sm==3.6.0) (8.1.12)\n",
            "Requirement already satisfied: wasabi<1.2.0,>=0.9.1 in /usr/local/lib/python3.10/dist-packages (from spacy<3.7.0,>=3.6.0->en-core-web-sm==3.6.0) (1.1.2)\n",
            "Requirement already satisfied: srsly<3.0.0,>=2.4.3 in /usr/local/lib/python3.10/dist-packages (from spacy<3.7.0,>=3.6.0->en-core-web-sm==3.6.0) (2.4.7)\n",
            "Requirement already satisfied: catalogue<2.1.0,>=2.0.6 in /usr/local/lib/python3.10/dist-packages (from spacy<3.7.0,>=3.6.0->en-core-web-sm==3.6.0) (2.0.9)\n",
            "Requirement already satisfied: typer<0.10.0,>=0.3.0 in /usr/local/lib/python3.10/dist-packages (from spacy<3.7.0,>=3.6.0->en-core-web-sm==3.6.0) (0.9.0)\n",
            "Requirement already satisfied: pathy>=0.10.0 in /usr/local/lib/python3.10/dist-packages (from spacy<3.7.0,>=3.6.0->en-core-web-sm==3.6.0) (0.10.2)\n",
            "Requirement already satisfied: smart-open<7.0.0,>=5.2.1 in /usr/local/lib/python3.10/dist-packages (from spacy<3.7.0,>=3.6.0->en-core-web-sm==3.6.0) (6.4.0)\n",
            "Requirement already satisfied: tqdm<5.0.0,>=4.38.0 in /usr/local/lib/python3.10/dist-packages (from spacy<3.7.0,>=3.6.0->en-core-web-sm==3.6.0) (4.66.1)\n",
            "Requirement already satisfied: numpy>=1.15.0 in /usr/local/lib/python3.10/dist-packages (from spacy<3.7.0,>=3.6.0->en-core-web-sm==3.6.0) (1.23.5)\n",
            "Requirement already satisfied: requests<3.0.0,>=2.13.0 in /usr/local/lib/python3.10/dist-packages (from spacy<3.7.0,>=3.6.0->en-core-web-sm==3.6.0) (2.31.0)\n",
            "Requirement already satisfied: pydantic!=1.8,!=1.8.1,<3.0.0,>=1.7.4 in /usr/local/lib/python3.10/dist-packages (from spacy<3.7.0,>=3.6.0->en-core-web-sm==3.6.0) (1.10.12)\n",
            "Requirement already satisfied: jinja2 in /usr/local/lib/python3.10/dist-packages (from spacy<3.7.0,>=3.6.0->en-core-web-sm==3.6.0) (3.1.2)\n",
            "Requirement already satisfied: setuptools in /usr/local/lib/python3.10/dist-packages (from spacy<3.7.0,>=3.6.0->en-core-web-sm==3.6.0) (67.7.2)\n",
            "Requirement already satisfied: packaging>=20.0 in /usr/local/lib/python3.10/dist-packages (from spacy<3.7.0,>=3.6.0->en-core-web-sm==3.6.0) (23.1)\n",
            "Requirement already satisfied: langcodes<4.0.0,>=3.2.0 in /usr/local/lib/python3.10/dist-packages (from spacy<3.7.0,>=3.6.0->en-core-web-sm==3.6.0) (3.3.0)\n",
            "Requirement already satisfied: typing-extensions>=4.2.0 in /usr/local/lib/python3.10/dist-packages (from pydantic!=1.8,!=1.8.1,<3.0.0,>=1.7.4->spacy<3.7.0,>=3.6.0->en-core-web-sm==3.6.0) (4.5.0)\n",
            "Requirement already satisfied: charset-normalizer<4,>=2 in /usr/local/lib/python3.10/dist-packages (from requests<3.0.0,>=2.13.0->spacy<3.7.0,>=3.6.0->en-core-web-sm==3.6.0) (3.2.0)\n",
            "Requirement already satisfied: idna<4,>=2.5 in /usr/local/lib/python3.10/dist-packages (from requests<3.0.0,>=2.13.0->spacy<3.7.0,>=3.6.0->en-core-web-sm==3.6.0) (3.4)\n",
            "Requirement already satisfied: urllib3<3,>=1.21.1 in /usr/local/lib/python3.10/dist-packages (from requests<3.0.0,>=2.13.0->spacy<3.7.0,>=3.6.0->en-core-web-sm==3.6.0) (2.0.4)\n",
            "Requirement already satisfied: certifi>=2017.4.17 in /usr/local/lib/python3.10/dist-packages (from requests<3.0.0,>=2.13.0->spacy<3.7.0,>=3.6.0->en-core-web-sm==3.6.0) (2023.7.22)\n",
            "Requirement already satisfied: blis<0.8.0,>=0.7.8 in /usr/local/lib/python3.10/dist-packages (from thinc<8.2.0,>=8.1.8->spacy<3.7.0,>=3.6.0->en-core-web-sm==3.6.0) (0.7.10)\n",
            "Requirement already satisfied: confection<1.0.0,>=0.0.1 in /usr/local/lib/python3.10/dist-packages (from thinc<8.2.0,>=8.1.8->spacy<3.7.0,>=3.6.0->en-core-web-sm==3.6.0) (0.1.2)\n",
            "Requirement already satisfied: click<9.0.0,>=7.1.1 in /usr/local/lib/python3.10/dist-packages (from typer<0.10.0,>=0.3.0->spacy<3.7.0,>=3.6.0->en-core-web-sm==3.6.0) (8.1.7)\n",
            "Requirement already satisfied: MarkupSafe>=2.0 in /usr/local/lib/python3.10/dist-packages (from jinja2->spacy<3.7.0,>=3.6.0->en-core-web-sm==3.6.0) (2.1.3)\n",
            "\u001b[38;5;2m✔ Download and installation successful\u001b[0m\n",
            "You can now load the package via spacy.load('en_core_web_sm')\n"
          ]
        }
      ],
      "source": [
        "!python3 -m spacy download en_core_web_sm"
      ]
    },
    {
      "cell_type": "markdown",
      "source": [
        "# Загрузка датасета \"Spam or not spam\":"
      ],
      "metadata": {
        "id": "aavd_hv-hAM0"
      }
    },
    {
      "cell_type": "code",
      "execution_count": 3,
      "metadata": {
        "colab": {
          "base_uri": "https://localhost:8080/",
          "height": 206
        },
        "id": "GX0-9_qUjyrq",
        "outputId": "29975c06-c488-47c6-814f-eebcb3c9c6a7"
      },
      "outputs": [
        {
          "output_type": "execute_result",
          "data": {
            "text/plain": [
              "                                               email  label\n",
              "0   date wed NUMBER aug NUMBER NUMBER NUMBER NUMB...      0\n",
              "1  martin a posted tassos papadopoulos the greek ...      0\n",
              "2  man threatens explosion in moscow thursday aug...      0\n",
              "3  klez the virus that won t die already the most...      0\n",
              "4   in adding cream to spaghetti carbonara which ...      0"
            ],
            "text/html": [
              "\n",
              "  <div id=\"df-b22aa5fa-670a-4338-a5ee-c26f75b4ec95\" class=\"colab-df-container\">\n",
              "    <div>\n",
              "<style scoped>\n",
              "    .dataframe tbody tr th:only-of-type {\n",
              "        vertical-align: middle;\n",
              "    }\n",
              "\n",
              "    .dataframe tbody tr th {\n",
              "        vertical-align: top;\n",
              "    }\n",
              "\n",
              "    .dataframe thead th {\n",
              "        text-align: right;\n",
              "    }\n",
              "</style>\n",
              "<table border=\"1\" class=\"dataframe\">\n",
              "  <thead>\n",
              "    <tr style=\"text-align: right;\">\n",
              "      <th></th>\n",
              "      <th>email</th>\n",
              "      <th>label</th>\n",
              "    </tr>\n",
              "  </thead>\n",
              "  <tbody>\n",
              "    <tr>\n",
              "      <th>0</th>\n",
              "      <td>date wed NUMBER aug NUMBER NUMBER NUMBER NUMB...</td>\n",
              "      <td>0</td>\n",
              "    </tr>\n",
              "    <tr>\n",
              "      <th>1</th>\n",
              "      <td>martin a posted tassos papadopoulos the greek ...</td>\n",
              "      <td>0</td>\n",
              "    </tr>\n",
              "    <tr>\n",
              "      <th>2</th>\n",
              "      <td>man threatens explosion in moscow thursday aug...</td>\n",
              "      <td>0</td>\n",
              "    </tr>\n",
              "    <tr>\n",
              "      <th>3</th>\n",
              "      <td>klez the virus that won t die already the most...</td>\n",
              "      <td>0</td>\n",
              "    </tr>\n",
              "    <tr>\n",
              "      <th>4</th>\n",
              "      <td>in adding cream to spaghetti carbonara which ...</td>\n",
              "      <td>0</td>\n",
              "    </tr>\n",
              "  </tbody>\n",
              "</table>\n",
              "</div>\n",
              "    <div class=\"colab-df-buttons\">\n",
              "\n",
              "  <div class=\"colab-df-container\">\n",
              "    <button class=\"colab-df-convert\" onclick=\"convertToInteractive('df-b22aa5fa-670a-4338-a5ee-c26f75b4ec95')\"\n",
              "            title=\"Convert this dataframe to an interactive table.\"\n",
              "            style=\"display:none;\">\n",
              "\n",
              "  <svg xmlns=\"http://www.w3.org/2000/svg\" height=\"24px\" viewBox=\"0 -960 960 960\">\n",
              "    <path d=\"M120-120v-720h720v720H120Zm60-500h600v-160H180v160Zm220 220h160v-160H400v160Zm0 220h160v-160H400v160ZM180-400h160v-160H180v160Zm440 0h160v-160H620v160ZM180-180h160v-160H180v160Zm440 0h160v-160H620v160Z\"/>\n",
              "  </svg>\n",
              "    </button>\n",
              "\n",
              "  <style>\n",
              "    .colab-df-container {\n",
              "      display:flex;\n",
              "      gap: 12px;\n",
              "    }\n",
              "\n",
              "    .colab-df-convert {\n",
              "      background-color: #E8F0FE;\n",
              "      border: none;\n",
              "      border-radius: 50%;\n",
              "      cursor: pointer;\n",
              "      display: none;\n",
              "      fill: #1967D2;\n",
              "      height: 32px;\n",
              "      padding: 0 0 0 0;\n",
              "      width: 32px;\n",
              "    }\n",
              "\n",
              "    .colab-df-convert:hover {\n",
              "      background-color: #E2EBFA;\n",
              "      box-shadow: 0px 1px 2px rgba(60, 64, 67, 0.3), 0px 1px 3px 1px rgba(60, 64, 67, 0.15);\n",
              "      fill: #174EA6;\n",
              "    }\n",
              "\n",
              "    .colab-df-buttons div {\n",
              "      margin-bottom: 4px;\n",
              "    }\n",
              "\n",
              "    [theme=dark] .colab-df-convert {\n",
              "      background-color: #3B4455;\n",
              "      fill: #D2E3FC;\n",
              "    }\n",
              "\n",
              "    [theme=dark] .colab-df-convert:hover {\n",
              "      background-color: #434B5C;\n",
              "      box-shadow: 0px 1px 3px 1px rgba(0, 0, 0, 0.15);\n",
              "      filter: drop-shadow(0px 1px 2px rgba(0, 0, 0, 0.3));\n",
              "      fill: #FFFFFF;\n",
              "    }\n",
              "  </style>\n",
              "\n",
              "    <script>\n",
              "      const buttonEl =\n",
              "        document.querySelector('#df-b22aa5fa-670a-4338-a5ee-c26f75b4ec95 button.colab-df-convert');\n",
              "      buttonEl.style.display =\n",
              "        google.colab.kernel.accessAllowed ? 'block' : 'none';\n",
              "\n",
              "      async function convertToInteractive(key) {\n",
              "        const element = document.querySelector('#df-b22aa5fa-670a-4338-a5ee-c26f75b4ec95');\n",
              "        const dataTable =\n",
              "          await google.colab.kernel.invokeFunction('convertToInteractive',\n",
              "                                                    [key], {});\n",
              "        if (!dataTable) return;\n",
              "\n",
              "        const docLinkHtml = 'Like what you see? Visit the ' +\n",
              "          '<a target=\"_blank\" href=https://colab.research.google.com/notebooks/data_table.ipynb>data table notebook</a>'\n",
              "          + ' to learn more about interactive tables.';\n",
              "        element.innerHTML = '';\n",
              "        dataTable['output_type'] = 'display_data';\n",
              "        await google.colab.output.renderOutput(dataTable, element);\n",
              "        const docLink = document.createElement('div');\n",
              "        docLink.innerHTML = docLinkHtml;\n",
              "        element.appendChild(docLink);\n",
              "      }\n",
              "    </script>\n",
              "  </div>\n",
              "\n",
              "\n",
              "<div id=\"df-c4407ce0-65f6-4999-8a5f-ea3b25fcaee0\">\n",
              "  <button class=\"colab-df-quickchart\" onclick=\"quickchart('df-c4407ce0-65f6-4999-8a5f-ea3b25fcaee0')\"\n",
              "            title=\"Suggest charts.\"\n",
              "            style=\"display:none;\">\n",
              "\n",
              "<svg xmlns=\"http://www.w3.org/2000/svg\" height=\"24px\"viewBox=\"0 0 24 24\"\n",
              "     width=\"24px\">\n",
              "    <g>\n",
              "        <path d=\"M19 3H5c-1.1 0-2 .9-2 2v14c0 1.1.9 2 2 2h14c1.1 0 2-.9 2-2V5c0-1.1-.9-2-2-2zM9 17H7v-7h2v7zm4 0h-2V7h2v10zm4 0h-2v-4h2v4z\"/>\n",
              "    </g>\n",
              "</svg>\n",
              "  </button>\n",
              "\n",
              "<style>\n",
              "  .colab-df-quickchart {\n",
              "      --bg-color: #E8F0FE;\n",
              "      --fill-color: #1967D2;\n",
              "      --hover-bg-color: #E2EBFA;\n",
              "      --hover-fill-color: #174EA6;\n",
              "      --disabled-fill-color: #AAA;\n",
              "      --disabled-bg-color: #DDD;\n",
              "  }\n",
              "\n",
              "  [theme=dark] .colab-df-quickchart {\n",
              "      --bg-color: #3B4455;\n",
              "      --fill-color: #D2E3FC;\n",
              "      --hover-bg-color: #434B5C;\n",
              "      --hover-fill-color: #FFFFFF;\n",
              "      --disabled-bg-color: #3B4455;\n",
              "      --disabled-fill-color: #666;\n",
              "  }\n",
              "\n",
              "  .colab-df-quickchart {\n",
              "    background-color: var(--bg-color);\n",
              "    border: none;\n",
              "    border-radius: 50%;\n",
              "    cursor: pointer;\n",
              "    display: none;\n",
              "    fill: var(--fill-color);\n",
              "    height: 32px;\n",
              "    padding: 0;\n",
              "    width: 32px;\n",
              "  }\n",
              "\n",
              "  .colab-df-quickchart:hover {\n",
              "    background-color: var(--hover-bg-color);\n",
              "    box-shadow: 0 1px 2px rgba(60, 64, 67, 0.3), 0 1px 3px 1px rgba(60, 64, 67, 0.15);\n",
              "    fill: var(--button-hover-fill-color);\n",
              "  }\n",
              "\n",
              "  .colab-df-quickchart-complete:disabled,\n",
              "  .colab-df-quickchart-complete:disabled:hover {\n",
              "    background-color: var(--disabled-bg-color);\n",
              "    fill: var(--disabled-fill-color);\n",
              "    box-shadow: none;\n",
              "  }\n",
              "\n",
              "  .colab-df-spinner {\n",
              "    border: 2px solid var(--fill-color);\n",
              "    border-color: transparent;\n",
              "    border-bottom-color: var(--fill-color);\n",
              "    animation:\n",
              "      spin 1s steps(1) infinite;\n",
              "  }\n",
              "\n",
              "  @keyframes spin {\n",
              "    0% {\n",
              "      border-color: transparent;\n",
              "      border-bottom-color: var(--fill-color);\n",
              "      border-left-color: var(--fill-color);\n",
              "    }\n",
              "    20% {\n",
              "      border-color: transparent;\n",
              "      border-left-color: var(--fill-color);\n",
              "      border-top-color: var(--fill-color);\n",
              "    }\n",
              "    30% {\n",
              "      border-color: transparent;\n",
              "      border-left-color: var(--fill-color);\n",
              "      border-top-color: var(--fill-color);\n",
              "      border-right-color: var(--fill-color);\n",
              "    }\n",
              "    40% {\n",
              "      border-color: transparent;\n",
              "      border-right-color: var(--fill-color);\n",
              "      border-top-color: var(--fill-color);\n",
              "    }\n",
              "    60% {\n",
              "      border-color: transparent;\n",
              "      border-right-color: var(--fill-color);\n",
              "    }\n",
              "    80% {\n",
              "      border-color: transparent;\n",
              "      border-right-color: var(--fill-color);\n",
              "      border-bottom-color: var(--fill-color);\n",
              "    }\n",
              "    90% {\n",
              "      border-color: transparent;\n",
              "      border-bottom-color: var(--fill-color);\n",
              "    }\n",
              "  }\n",
              "</style>\n",
              "\n",
              "  <script>\n",
              "    async function quickchart(key) {\n",
              "      const quickchartButtonEl =\n",
              "        document.querySelector('#' + key + ' button');\n",
              "      quickchartButtonEl.disabled = true;  // To prevent multiple clicks.\n",
              "      quickchartButtonEl.classList.add('colab-df-spinner');\n",
              "      try {\n",
              "        const charts = await google.colab.kernel.invokeFunction(\n",
              "            'suggestCharts', [key], {});\n",
              "      } catch (error) {\n",
              "        console.error('Error during call to suggestCharts:', error);\n",
              "      }\n",
              "      quickchartButtonEl.classList.remove('colab-df-spinner');\n",
              "      quickchartButtonEl.classList.add('colab-df-quickchart-complete');\n",
              "    }\n",
              "    (() => {\n",
              "      let quickchartButtonEl =\n",
              "        document.querySelector('#df-c4407ce0-65f6-4999-8a5f-ea3b25fcaee0 button');\n",
              "      quickchartButtonEl.style.display =\n",
              "        google.colab.kernel.accessAllowed ? 'block' : 'none';\n",
              "    })();\n",
              "  </script>\n",
              "</div>\n",
              "    </div>\n",
              "  </div>\n"
            ]
          },
          "metadata": {},
          "execution_count": 3
        }
      ],
      "source": [
        "data = pd.read_csv(\"/content/spam_or_not_spam.csv\")\n",
        "data.style.set_properties(**{'text-align': 'left'})\n",
        "data.head(5)"
      ]
    },
    {
      "cell_type": "markdown",
      "source": [
        "Оценим баланс классов:"
      ],
      "metadata": {
        "id": "jrUMUF8XhRn4"
      }
    },
    {
      "cell_type": "code",
      "execution_count": 4,
      "metadata": {
        "colab": {
          "base_uri": "https://localhost:8080/"
        },
        "id": "Zztt7_Akj93P",
        "outputId": "df7f626b-8e87-4c67-c1bb-dd35f1ea498d"
      },
      "outputs": [
        {
          "output_type": "execute_result",
          "data": {
            "text/plain": [
              "0    2500\n",
              "1     500\n",
              "Name: label, dtype: int64"
            ]
          },
          "metadata": {},
          "execution_count": 4
        }
      ],
      "source": [
        "data.label.value_counts()"
      ]
    },
    {
      "cell_type": "markdown",
      "source": [
        "Загрузка набора английских стоп-слов из библиотеки Spacy:"
      ],
      "metadata": {
        "id": "rJAHChNVhYTB"
      }
    },
    {
      "cell_type": "code",
      "execution_count": 5,
      "metadata": {
        "colab": {
          "base_uri": "https://localhost:8080/",
          "height": 175
        },
        "id": "Fpk4ulGNnJIt",
        "outputId": "9df13642-d3ee-4337-87fe-cf45d4c8eb72"
      },
      "outputs": [
        {
          "output_type": "stream",
          "name": "stdout",
          "text": [
            "Spacy english stopwords size: 326\n",
            "\n"
          ]
        },
        {
          "output_type": "execute_result",
          "data": {
            "text/plain": [
              "\"'s, forty, make, whereupon, will, until, whereas, off, part, seeming, a, elsewhere, everything, yet, formerly, one, unless, his, thereupon, fifty, with, serious, regarding, enough, although, latterly, really, never, nobody, throughout, seems, call, do, herself, more, again, full, nevertheless, because, becomes, hereby, ten, ’ll, sixty, why, first, namely, whatever, how, well, thru, beyond, sometime, hundred, above, themselves, itself, wherever, always, either, over, together, say, being, from, any, made, ca, it, then, around, bottom, that, ever, somehow, 've, before, are, whole, another, eleven, else, within, where, there, each, often, when, since, though, and, nor, hereupon, however, via, thereafter, ‘m, once, into, ourselves, used, such, others, just, show, hers, if, former, moreover, to, put, through, could, some, thus, become, nine, anyone, third, on, was, quite, did, several, can, see, upon, front, which, anyway, would, during, under, perhaps, than, otherwise, ‘s, except, seemed, or, this, every, became, ’m, other, is, therein, 'll, nothing, something, mine, our, hence, mostly, beside, 'm, thence, go, two, already, much, thereby, at, get, herein, has, they, up, noone, along, as, anyhow, also, ’ve, almost, everyone, i, your, toward, across, n't, in, am, hereafter, someone, doing, next, have, here, towards, whence, twenty, must, take, about, top, he, least, back, everywhere, against, neither, had, out, all, not, its, ’s, these, whose, while, anywhere, still, us, among, nowhere, those, none, might, sometimes, empty, six, very, my, eight, between, latter, cannot, after, n‘t, yourself, does, were, whereafter, four, most, now, you, done, but, them, becoming, of, down, what, amongst, besides, amount, seem, alone, for, myself, ‘d, five, been, no, ours, 're, anything, so, ‘re, name, n’t, we, whenever, she, move, too, therefore, fifteen, various, twelve, by, indeed, meanwhile, less, should, without, give, yours, last, behind, even, side, ‘ll, him, whoever, me, keep, who, both, further, whereby, three, please, per, beforehand, ’d, using, may, an, 'd, same, be, rather, due, yourselves, whom, onto, their, somewhere, the, whether, afterwards, few, below, whither, many, wherein, own, ‘ve, himself, only, her, re, ’re\""
            ],
            "application/vnd.google.colaboratory.intrinsic+json": {
              "type": "string"
            }
          },
          "metadata": {},
          "execution_count": 5
        }
      ],
      "source": [
        "nlp = spacy.load(\"en_core_web_sm\")\n",
        "stopwords = nlp.Defaults.stop_words\n",
        "print(f'Spacy english stopwords size: {len(stopwords)}', end='\\n\\n')\n",
        "', '.join(stopwords)"
      ]
    },
    {
      "cell_type": "markdown",
      "source": [
        "Удаление пустых и Nan строк из датасета:"
      ],
      "metadata": {
        "id": "zbrh1I5Rhwgs"
      }
    },
    {
      "cell_type": "code",
      "execution_count": 6,
      "metadata": {
        "id": "G3_YwD8TCNMn"
      },
      "outputs": [],
      "source": [
        "data.drop(data[data.email == ' '].index, inplace=True)\n",
        "data.drop(data[data['email'].isnull()].index, inplace=True)"
      ]
    },
    {
      "cell_type": "markdown",
      "source": [
        "Лемматизация и токенизация при помощи Spacy:"
      ],
      "metadata": {
        "id": "FSmjSv6mh_jg"
      }
    },
    {
      "cell_type": "code",
      "execution_count": 7,
      "metadata": {
        "colab": {
          "base_uri": "https://localhost:8080/",
          "height": 178
        },
        "id": "U1CjHUiXpl51",
        "outputId": "e3ab9187-5ad6-4bd9-d3d6-d5c78938bb0f"
      },
      "outputs": [
        {
          "output_type": "stream",
          "name": "stdout",
          "text": [
            "CPU times: user 2min 34s, sys: 1.24 s, total: 2min 35s\n",
            "Wall time: 2min 59s\n"
          ]
        },
        {
          "output_type": "execute_result",
          "data": {
            "text/plain": [
              "                                                  email  label  \\\n",
              "748   at NUMBER NUMBER pm NUMBER on NUMBER NUMBER NU...      0   \n",
              "2883   pocket the newest NUMBER year annuity pocket ...      1   \n",
              "1391  justin mason jm jmason org NUMBER NUMBER NUMBE...      0   \n",
              "\n",
              "                                           cleaned_text  \n",
              "748   pm tom write green say spot owl hadn t exist i...  \n",
              "2883  pocket new year annuity pocket new year annuit...  \n",
              "1391  justin mason jm jmason org point aim rescore a...  "
            ],
            "text/html": [
              "\n",
              "  <div id=\"df-824a0934-b5a8-4a5a-8a02-4018042587d3\" class=\"colab-df-container\">\n",
              "    <div>\n",
              "<style scoped>\n",
              "    .dataframe tbody tr th:only-of-type {\n",
              "        vertical-align: middle;\n",
              "    }\n",
              "\n",
              "    .dataframe tbody tr th {\n",
              "        vertical-align: top;\n",
              "    }\n",
              "\n",
              "    .dataframe thead th {\n",
              "        text-align: right;\n",
              "    }\n",
              "</style>\n",
              "<table border=\"1\" class=\"dataframe\">\n",
              "  <thead>\n",
              "    <tr style=\"text-align: right;\">\n",
              "      <th></th>\n",
              "      <th>email</th>\n",
              "      <th>label</th>\n",
              "      <th>cleaned_text</th>\n",
              "    </tr>\n",
              "  </thead>\n",
              "  <tbody>\n",
              "    <tr>\n",
              "      <th>748</th>\n",
              "      <td>at NUMBER NUMBER pm NUMBER on NUMBER NUMBER NU...</td>\n",
              "      <td>0</td>\n",
              "      <td>pm tom write green say spot owl hadn t exist i...</td>\n",
              "    </tr>\n",
              "    <tr>\n",
              "      <th>2883</th>\n",
              "      <td>pocket the newest NUMBER year annuity pocket ...</td>\n",
              "      <td>1</td>\n",
              "      <td>pocket new year annuity pocket new year annuit...</td>\n",
              "    </tr>\n",
              "    <tr>\n",
              "      <th>1391</th>\n",
              "      <td>justin mason jm jmason org NUMBER NUMBER NUMBE...</td>\n",
              "      <td>0</td>\n",
              "      <td>justin mason jm jmason org point aim rescore a...</td>\n",
              "    </tr>\n",
              "  </tbody>\n",
              "</table>\n",
              "</div>\n",
              "    <div class=\"colab-df-buttons\">\n",
              "\n",
              "  <div class=\"colab-df-container\">\n",
              "    <button class=\"colab-df-convert\" onclick=\"convertToInteractive('df-824a0934-b5a8-4a5a-8a02-4018042587d3')\"\n",
              "            title=\"Convert this dataframe to an interactive table.\"\n",
              "            style=\"display:none;\">\n",
              "\n",
              "  <svg xmlns=\"http://www.w3.org/2000/svg\" height=\"24px\" viewBox=\"0 -960 960 960\">\n",
              "    <path d=\"M120-120v-720h720v720H120Zm60-500h600v-160H180v160Zm220 220h160v-160H400v160Zm0 220h160v-160H400v160ZM180-400h160v-160H180v160Zm440 0h160v-160H620v160ZM180-180h160v-160H180v160Zm440 0h160v-160H620v160Z\"/>\n",
              "  </svg>\n",
              "    </button>\n",
              "\n",
              "  <style>\n",
              "    .colab-df-container {\n",
              "      display:flex;\n",
              "      gap: 12px;\n",
              "    }\n",
              "\n",
              "    .colab-df-convert {\n",
              "      background-color: #E8F0FE;\n",
              "      border: none;\n",
              "      border-radius: 50%;\n",
              "      cursor: pointer;\n",
              "      display: none;\n",
              "      fill: #1967D2;\n",
              "      height: 32px;\n",
              "      padding: 0 0 0 0;\n",
              "      width: 32px;\n",
              "    }\n",
              "\n",
              "    .colab-df-convert:hover {\n",
              "      background-color: #E2EBFA;\n",
              "      box-shadow: 0px 1px 2px rgba(60, 64, 67, 0.3), 0px 1px 3px 1px rgba(60, 64, 67, 0.15);\n",
              "      fill: #174EA6;\n",
              "    }\n",
              "\n",
              "    .colab-df-buttons div {\n",
              "      margin-bottom: 4px;\n",
              "    }\n",
              "\n",
              "    [theme=dark] .colab-df-convert {\n",
              "      background-color: #3B4455;\n",
              "      fill: #D2E3FC;\n",
              "    }\n",
              "\n",
              "    [theme=dark] .colab-df-convert:hover {\n",
              "      background-color: #434B5C;\n",
              "      box-shadow: 0px 1px 3px 1px rgba(0, 0, 0, 0.15);\n",
              "      filter: drop-shadow(0px 1px 2px rgba(0, 0, 0, 0.3));\n",
              "      fill: #FFFFFF;\n",
              "    }\n",
              "  </style>\n",
              "\n",
              "    <script>\n",
              "      const buttonEl =\n",
              "        document.querySelector('#df-824a0934-b5a8-4a5a-8a02-4018042587d3 button.colab-df-convert');\n",
              "      buttonEl.style.display =\n",
              "        google.colab.kernel.accessAllowed ? 'block' : 'none';\n",
              "\n",
              "      async function convertToInteractive(key) {\n",
              "        const element = document.querySelector('#df-824a0934-b5a8-4a5a-8a02-4018042587d3');\n",
              "        const dataTable =\n",
              "          await google.colab.kernel.invokeFunction('convertToInteractive',\n",
              "                                                    [key], {});\n",
              "        if (!dataTable) return;\n",
              "\n",
              "        const docLinkHtml = 'Like what you see? Visit the ' +\n",
              "          '<a target=\"_blank\" href=https://colab.research.google.com/notebooks/data_table.ipynb>data table notebook</a>'\n",
              "          + ' to learn more about interactive tables.';\n",
              "        element.innerHTML = '';\n",
              "        dataTable['output_type'] = 'display_data';\n",
              "        await google.colab.output.renderOutput(dataTable, element);\n",
              "        const docLink = document.createElement('div');\n",
              "        docLink.innerHTML = docLinkHtml;\n",
              "        element.appendChild(docLink);\n",
              "      }\n",
              "    </script>\n",
              "  </div>\n",
              "\n",
              "\n",
              "<div id=\"df-539ea674-4a49-45fe-b516-124aa3e7cd0b\">\n",
              "  <button class=\"colab-df-quickchart\" onclick=\"quickchart('df-539ea674-4a49-45fe-b516-124aa3e7cd0b')\"\n",
              "            title=\"Suggest charts.\"\n",
              "            style=\"display:none;\">\n",
              "\n",
              "<svg xmlns=\"http://www.w3.org/2000/svg\" height=\"24px\"viewBox=\"0 0 24 24\"\n",
              "     width=\"24px\">\n",
              "    <g>\n",
              "        <path d=\"M19 3H5c-1.1 0-2 .9-2 2v14c0 1.1.9 2 2 2h14c1.1 0 2-.9 2-2V5c0-1.1-.9-2-2-2zM9 17H7v-7h2v7zm4 0h-2V7h2v10zm4 0h-2v-4h2v4z\"/>\n",
              "    </g>\n",
              "</svg>\n",
              "  </button>\n",
              "\n",
              "<style>\n",
              "  .colab-df-quickchart {\n",
              "      --bg-color: #E8F0FE;\n",
              "      --fill-color: #1967D2;\n",
              "      --hover-bg-color: #E2EBFA;\n",
              "      --hover-fill-color: #174EA6;\n",
              "      --disabled-fill-color: #AAA;\n",
              "      --disabled-bg-color: #DDD;\n",
              "  }\n",
              "\n",
              "  [theme=dark] .colab-df-quickchart {\n",
              "      --bg-color: #3B4455;\n",
              "      --fill-color: #D2E3FC;\n",
              "      --hover-bg-color: #434B5C;\n",
              "      --hover-fill-color: #FFFFFF;\n",
              "      --disabled-bg-color: #3B4455;\n",
              "      --disabled-fill-color: #666;\n",
              "  }\n",
              "\n",
              "  .colab-df-quickchart {\n",
              "    background-color: var(--bg-color);\n",
              "    border: none;\n",
              "    border-radius: 50%;\n",
              "    cursor: pointer;\n",
              "    display: none;\n",
              "    fill: var(--fill-color);\n",
              "    height: 32px;\n",
              "    padding: 0;\n",
              "    width: 32px;\n",
              "  }\n",
              "\n",
              "  .colab-df-quickchart:hover {\n",
              "    background-color: var(--hover-bg-color);\n",
              "    box-shadow: 0 1px 2px rgba(60, 64, 67, 0.3), 0 1px 3px 1px rgba(60, 64, 67, 0.15);\n",
              "    fill: var(--button-hover-fill-color);\n",
              "  }\n",
              "\n",
              "  .colab-df-quickchart-complete:disabled,\n",
              "  .colab-df-quickchart-complete:disabled:hover {\n",
              "    background-color: var(--disabled-bg-color);\n",
              "    fill: var(--disabled-fill-color);\n",
              "    box-shadow: none;\n",
              "  }\n",
              "\n",
              "  .colab-df-spinner {\n",
              "    border: 2px solid var(--fill-color);\n",
              "    border-color: transparent;\n",
              "    border-bottom-color: var(--fill-color);\n",
              "    animation:\n",
              "      spin 1s steps(1) infinite;\n",
              "  }\n",
              "\n",
              "  @keyframes spin {\n",
              "    0% {\n",
              "      border-color: transparent;\n",
              "      border-bottom-color: var(--fill-color);\n",
              "      border-left-color: var(--fill-color);\n",
              "    }\n",
              "    20% {\n",
              "      border-color: transparent;\n",
              "      border-left-color: var(--fill-color);\n",
              "      border-top-color: var(--fill-color);\n",
              "    }\n",
              "    30% {\n",
              "      border-color: transparent;\n",
              "      border-left-color: var(--fill-color);\n",
              "      border-top-color: var(--fill-color);\n",
              "      border-right-color: var(--fill-color);\n",
              "    }\n",
              "    40% {\n",
              "      border-color: transparent;\n",
              "      border-right-color: var(--fill-color);\n",
              "      border-top-color: var(--fill-color);\n",
              "    }\n",
              "    60% {\n",
              "      border-color: transparent;\n",
              "      border-right-color: var(--fill-color);\n",
              "    }\n",
              "    80% {\n",
              "      border-color: transparent;\n",
              "      border-right-color: var(--fill-color);\n",
              "      border-bottom-color: var(--fill-color);\n",
              "    }\n",
              "    90% {\n",
              "      border-color: transparent;\n",
              "      border-bottom-color: var(--fill-color);\n",
              "    }\n",
              "  }\n",
              "</style>\n",
              "\n",
              "  <script>\n",
              "    async function quickchart(key) {\n",
              "      const quickchartButtonEl =\n",
              "        document.querySelector('#' + key + ' button');\n",
              "      quickchartButtonEl.disabled = true;  // To prevent multiple clicks.\n",
              "      quickchartButtonEl.classList.add('colab-df-spinner');\n",
              "      try {\n",
              "        const charts = await google.colab.kernel.invokeFunction(\n",
              "            'suggestCharts', [key], {});\n",
              "      } catch (error) {\n",
              "        console.error('Error during call to suggestCharts:', error);\n",
              "      }\n",
              "      quickchartButtonEl.classList.remove('colab-df-spinner');\n",
              "      quickchartButtonEl.classList.add('colab-df-quickchart-complete');\n",
              "    }\n",
              "    (() => {\n",
              "      let quickchartButtonEl =\n",
              "        document.querySelector('#df-539ea674-4a49-45fe-b516-124aa3e7cd0b button');\n",
              "      quickchartButtonEl.style.display =\n",
              "        google.colab.kernel.accessAllowed ? 'block' : 'none';\n",
              "    })();\n",
              "  </script>\n",
              "</div>\n",
              "    </div>\n",
              "  </div>\n"
            ]
          },
          "metadata": {},
          "execution_count": 7
        }
      ],
      "source": [
        "%%time\n",
        "data['cleaned_text'] = data['email'].str.replace('NUMBER', '') # удаляем слово \"NUMBER\" из текста, так как оно заменяет собой все числа и встречается чаще любого другого слова\n",
        "data['cleaned_text'] = data['cleaned_text'].apply(lambda x: ' '.join(token.lemma_.lower() for token in nlp(x) if\n",
        "        not token.is_stop\n",
        "        and not token.is_punct # удаление пунктуации\n",
        "        and not token.is_digit # удаление цифр\n",
        "        and not token.like_email # удаление почтовых адресов\n",
        "        and not token.like_num # удаление чисел, в том числе в виде текста\n",
        "        and not token.is_space # удаление пробельных символов\n",
        "    )\n",
        ")\n",
        "\n",
        "data.sample(3, random_state=1)"
      ]
    },
    {
      "cell_type": "markdown",
      "source": [
        "Разобьем выборку на тренировочную и тестовую часть, зафиксируем random_state:"
      ],
      "metadata": {
        "id": "I1CtowWYi5kc"
      }
    },
    {
      "cell_type": "code",
      "execution_count": 8,
      "metadata": {
        "id": "jAJFueM7G5u7"
      },
      "outputs": [],
      "source": [
        "X_train, X_test, y_train, y_test = train_test_split(data['cleaned_text'], data['label'], shuffle=True, random_state=1234, train_size=0.7)"
      ]
    },
    {
      "cell_type": "markdown",
      "source": [
        "# Векторизация при помощи CountVectorizer"
      ],
      "metadata": {
        "id": "7fpLbgFDneFK"
      }
    },
    {
      "cell_type": "code",
      "execution_count": 9,
      "metadata": {
        "id": "odJsdWPOHI9V"
      },
      "outputs": [],
      "source": [
        "vectorizer = CountVectorizer()\n",
        "\n",
        "X_train_bow_vectorized = vectorizer.fit_transform(X_train)\n",
        "X_test_bow_vectorized = vectorizer.transform(X_test)"
      ]
    },
    {
      "cell_type": "code",
      "source": [
        "len(vectorizer.get_feature_names_out())"
      ],
      "metadata": {
        "colab": {
          "base_uri": "https://localhost:8080/"
        },
        "id": "Vq7rZvVim7so",
        "outputId": "3a1247b4-cb78-4e45-a9cd-dc283d846be2"
      },
      "execution_count": 10,
      "outputs": [
        {
          "output_type": "execute_result",
          "data": {
            "text/plain": [
              "24072"
            ]
          },
          "metadata": {},
          "execution_count": 10
        }
      ]
    },
    {
      "cell_type": "code",
      "execution_count": 11,
      "metadata": {
        "colab": {
          "base_uri": "https://localhost:8080/"
        },
        "id": "otNdRAl-Hjkv",
        "outputId": "9b5c753b-359d-4c58-95b5-2dcfdca83535"
      },
      "outputs": [
        {
          "output_type": "execute_result",
          "data": {
            "text/plain": [
              "array(['bring', 'brique', 'britain', 'britan', 'britannia', 'british',\n",
              "       'britney', 'briton', 'britons', 'brklisttmgepveytvbet', 'brksalrq',\n",
              "       'brmodyyfnrlnvopxxmo', 'broad', 'broadband', 'broadcast',\n",
              "       'broadcaster', 'broadcasting', 'broaden', 'broadening', 'broadly',\n",
              "       'broadsheet', 'broadway', 'brocard', 'brochure', 'brochureware',\n",
              "       'broil', 'broinn', 'broken', 'broker', 'brokerage', 'bromide',\n",
              "       'bronson', 'bronze', 'broo', 'brooklyn', 'brooks', 'broom',\n",
              "       'brose', 'brother', 'brotherhood', 'brotherton', 'brough', 'brown',\n",
              "       'browse', 'browser', 'browsing', 'brruexlswclc', 'bruce', 'bruceg',\n",
              "       'bruise', 'brunei', 'brunet', 'bruno', 'brunswick', 'brush',\n",
              "       'brussels', 'brutal', 'brutality', 'brutalize', 'brutally',\n",
              "       'brute', 'bryan', 'bs', 'bsbdfcrxnkmlt', 'bsd', 'bsddb', 'bsh',\n",
              "       'bsmtp', 'bsp', 'bspyjykcbbe', 'bssejvecagazaaadhbuvqdkqomklnhix',\n",
              "       'bssqftuds', 'bst', 'bstringfield',\n",
              "       'bsuvzlvftsylsxzfqsttymckktnzwdnokadp',\n",
              "       'bswsiryhbomwobwaamogzxvdkoyoaaabgvsipepppscqk', 'bt',\n",
              "       'btayljkoiggvkdvfetssvafwmdguaqyznhbnggbvfqiuoozilqujukmptsjv',\n",
              "       'btbshbzyrloaacksaw', 'btcplpmdfexvx', 'btea',\n",
              "       'btfltlhtukzeecnpljjxeytp', 'btfzbeescxpgstzmyftvdgklfmadud',\n",
              "       'btgjnsklbxh', 'btopen', 'btoqljtzlkarykygtpeewyz',\n",
              "       'btthskkseiqklrbliklgnmzrnhdfpp', 'btvomimgtfgjsaaaaab', 'btw',\n",
              "       'bu', 'bubba', 'bubbau', 'bubble', 'buck', 'buckle', 'buckminster',\n",
              "       'bud', 'buddha', 'buddhism', 'buddhist'], dtype=object)"
            ]
          },
          "metadata": {},
          "execution_count": 11
        }
      ],
      "source": [
        "vectorizer.get_feature_names_out()[2550:2650]"
      ]
    },
    {
      "cell_type": "markdown",
      "source": [
        "Представление текстов в виде мешка слов:"
      ],
      "metadata": {
        "id": "r_HpvS2LpjbH"
      }
    },
    {
      "cell_type": "code",
      "execution_count": 12,
      "metadata": {
        "id": "AkcxnNsQH1ne"
      },
      "outputs": [],
      "source": [
        "bag_count_vect = pd.DataFrame(X_train_bow_vectorized.toarray(), columns=vectorizer.get_feature_names_out())"
      ]
    },
    {
      "cell_type": "markdown",
      "source": [
        "# Векторизация при помощи TfidfVectorizer"
      ],
      "metadata": {
        "id": "OfxN-x-zqFjL"
      }
    },
    {
      "cell_type": "code",
      "source": [
        "tfidf_vectorizer = TfidfVectorizer()\n",
        "\n",
        "X_train_tfidf_vectorized = tfidf_vectorizer.fit_transform(X_train)\n",
        "X_test_tfidf_vectorized = tfidf_vectorizer.transform(X_test)"
      ],
      "metadata": {
        "id": "jtBbJAqTqMrb"
      },
      "execution_count": 13,
      "outputs": []
    },
    {
      "cell_type": "code",
      "source": [
        "tfidf_vectorizer.get_feature_names_out()[1550:1650]"
      ],
      "metadata": {
        "id": "_8cYGtirqMpV",
        "colab": {
          "base_uri": "https://localhost:8080/"
        },
        "outputId": "4fa2c7bf-ab91-43eb-da92-fcae3c020755"
      },
      "execution_count": 14,
      "outputs": [
        {
          "output_type": "execute_result",
          "data": {
            "text/plain": [
              "array(['avoir', 'avoisinante', 'avow',\n",
              "       'avqcntxrhbjdjqipajpzxfacapkwkxqqvzs',\n",
              "       'avrzlnrjrgslmdrwavgcnrwinhflritlzp', 'avyncusmrtgtlwlfkbyfn',\n",
              "       'aw', 'await', 'awake', 'award', 'aware', 'awareness', 'away',\n",
              "       'awcbwunahmxo', 'awdgvlaxitmbe', 'awe', 'awesome', 'awful',\n",
              "       'awfully', 'awhile', 'awk', 'awkpxuovkyi',\n",
              "       'awkuolcaljxrjlmlapmntvbpk', 'awkward', 'awl',\n",
              "       'awubpwmbspxhjfohaeqlqgcgxhqeeuesnvuwgvmjfksanrb',\n",
              "       'awubpxnfowyzbxegeqlfnwcfaknapokbgjjqqqehgiwfdsaopj',\n",
              "       'awubpxzdpxhjfohaeqiaacgvmtbvktprjmjqtoyzyifzusan',\n",
              "       'awubpycpxhjfohaeqlasgcfzhsqmsvuygqjwgldwzkpihmanrur',\n",
              "       'awubpyyyspxhjfohaeqlqnqcgyvfnvywkirrghhdisbonconaopcr',\n",
              "       'awubpzayrijkhjbjytpqeqiyzgcg', 'awvsuujywwmnpqrjwqmjplyvtqzhzzhk',\n",
              "       'axe', 'axel', 'axf', 'axfr', 'axlbjrrsyyrtxoyrcuybydztzzxeos',\n",
              "       'axle', 'axpgx', 'axtfrpxfcmuwyaljocwfir',\n",
              "       'axwvyalyzqcyzkaplpturlkltbljy',\n",
              "       'axycduvaomverzvrvzjsizbryjxwaqkdovuxtjxhvusxiif', 'axzn', 'axée',\n",
              "       'ay', 'aylqryxqfamzixvopkvbfzoquukuyrayjycmmv',\n",
              "       'aymoksisuitoibmnzivytotupqyztktenclh', 'ayn', 'ayqjdvfxbzz',\n",
              "       'ayrica', 'ayris', 'ayrıntılı', 'aytekomspyndoh',\n",
              "       'ayvuttqstxnigjsvaeomeiaxdxjtcyvtwcmgxckanfytzlkcvuujjs', 'az',\n",
              "       'azcentral', 'azcple', 'azerbaidjan', 'azimuth',\n",
              "       'azjcjscezwufmipqeiqmxbpcmydyo', 'azlzrmess', 'azt',\n",
              "       'azyxbrjgxrmjppvgy', 'azzvtwnjqfbjynpvhxnzkufjcmslorznuy', 'a品',\n",
              "       'ba', 'baa', 'baartman', 'babbage', 'babble', 'babbles', 'babe',\n",
              "       'babs', 'baby', 'bachelor', 'bachelorette', 'back', 'backbone',\n",
              "       'backdoor', 'backend', 'background', 'background_doperiodic',\n",
              "       'backhaul', 'backing', 'backlash', 'backlight', 'backlit',\n",
              "       'backlog', 'backpack', 'backquote', 'backreflector', 'backrub',\n",
              "       'backside', 'backspace', 'backstabing', 'backstreet', 'backtick',\n",
              "       'backtrack', 'backup', 'backupe'], dtype=object)"
            ]
          },
          "metadata": {},
          "execution_count": 14
        }
      ]
    },
    {
      "cell_type": "code",
      "source": [
        "bag_tfidf_vect = pd.DataFrame(X_train_tfidf_vectorized.toarray(), columns=tfidf_vectorizer.get_feature_names_out())"
      ],
      "metadata": {
        "id": "x95LQTFCqMkY"
      },
      "execution_count": 15,
      "outputs": []
    },
    {
      "cell_type": "markdown",
      "source": [
        "Посмотрим на TF-IDF слова \"yes\":"
      ],
      "metadata": {
        "id": "TbhYLTDbyoIe"
      }
    },
    {
      "cell_type": "code",
      "source": [
        "bag_tfidf_vect[bag_tfidf_vect['yes'] > 0].sort_values(by=[\"yes\"], ascending=False)['yes']"
      ],
      "metadata": {
        "id": "QlY9yzdBwBE4",
        "colab": {
          "base_uri": "https://localhost:8080/"
        },
        "outputId": "c60a3a93-fb38-4436-9fef-0807a82bf67f"
      },
      "execution_count": 16,
      "outputs": [
        {
          "output_type": "execute_result",
          "data": {
            "text/plain": [
              "1702    0.183271\n",
              "1738    0.161631\n",
              "237     0.151156\n",
              "207     0.139732\n",
              "1778    0.133211\n",
              "          ...   \n",
              "964     0.010084\n",
              "1745    0.010070\n",
              "1305    0.009293\n",
              "1285    0.005142\n",
              "1565    0.003704\n",
              "Name: yes, Length: 170, dtype: float64"
            ]
          },
          "metadata": {},
          "execution_count": 16
        }
      ]
    },
    {
      "cell_type": "code",
      "source": [
        "bag_tfidf_vect.shape, bag_count_vect.shape, data.shape"
      ],
      "metadata": {
        "colab": {
          "base_uri": "https://localhost:8080/"
        },
        "id": "kVBLb5knf7zp",
        "outputId": "2db74264-adf3-4287-c251-33b2d4833302"
      },
      "execution_count": 17,
      "outputs": [
        {
          "output_type": "execute_result",
          "data": {
            "text/plain": [
              "((2097, 24072), (2097, 24072), (2997, 3))"
            ]
          },
          "metadata": {},
          "execution_count": 17
        }
      ]
    },
    {
      "cell_type": "markdown",
      "source": [
        "# Кросс-валидация:"
      ],
      "metadata": {
        "id": "qkuE7TvOvCDs"
      }
    },
    {
      "cell_type": "code",
      "source": [
        "classifiers = [DecisionTreeClassifier(),\n",
        "               LogisticRegression(),\n",
        "               BernoulliNB(),\n",
        "               MultinomialNB(),\n",
        "               ComplementNB()]\n",
        "\n",
        "pipe_dict = {0: \"DecisionTreeClassifier\", 1: \"LogisticRegression\", 2: \"Naive Bayes Bernoulli\", 3: \"Naive Bayes Multinomial\", 4: \"Complement Naive Bayes\"}"
      ],
      "metadata": {
        "id": "qlT99y3ft80m"
      },
      "execution_count": 41,
      "outputs": []
    },
    {
      "cell_type": "code",
      "source": [
        "skf = StratifiedKFold(n_splits=5, shuffle=True, random_state=2786)"
      ],
      "metadata": {
        "id": "KHJlwDhI-zHW"
      },
      "execution_count": 42,
      "outputs": []
    },
    {
      "cell_type": "markdown",
      "source": [
        "Оценки для различных моделей и способов векторизации:"
      ],
      "metadata": {
        "id": "rTHDw08iKVYx"
      }
    },
    {
      "cell_type": "code",
      "source": [
        "print('CountVectorizer')\n",
        "for i, model in enumerate(classifiers):\n",
        "    cv_score = cross_val_score(model, X_train_bow_vectorized, y_train, scoring=\"accuracy\", cv=skf)\n",
        "    print(\"%s: %f \" % (pipe_dict[i], cv_score.mean()))"
      ],
      "metadata": {
        "colab": {
          "base_uri": "https://localhost:8080/"
        },
        "id": "mp2DoKILt2re",
        "outputId": "e093f050-c414-4a31-db9e-06bde174bd8a"
      },
      "execution_count": 43,
      "outputs": [
        {
          "output_type": "stream",
          "name": "stdout",
          "text": [
            "CountVectorizer\n",
            "DecisionTreeClassifier: 0.951832 \n",
            "LogisticRegression: 0.981402 \n",
            "Naive Bayes Bernoulli: 0.866955 \n",
            "Naive Bayes Multinomial: 0.984265 \n",
            "Complement Naive Bayes: 0.982359 \n"
          ]
        }
      ]
    },
    {
      "cell_type": "code",
      "source": [
        "print(\"TfidfVectorizer\")\n",
        "for i, model in enumerate(classifiers):\n",
        "    cv_score = cross_val_score(model, X_train_tfidf_vectorized, y_train, scoring=\"accuracy\", cv=skf)\n",
        "    print(\"%s: %f \" % (pipe_dict[i], cv_score.mean()))"
      ],
      "metadata": {
        "colab": {
          "base_uri": "https://localhost:8080/"
        },
        "id": "mmSOs_-quzrD",
        "outputId": "c9709a66-8a8b-4ca7-c2d8-162c8c46b458"
      },
      "execution_count": 44,
      "outputs": [
        {
          "output_type": "stream",
          "name": "stdout",
          "text": [
            "TfidfVectorizer\n",
            "DecisionTreeClassifier: 0.955168 \n",
            "LogisticRegression: 0.944213 \n",
            "Naive Bayes Bernoulli: 0.866955 \n",
            "Naive Bayes Multinomial: 0.882215 \n",
            "Complement Naive Bayes: 0.939922 \n"
          ]
        }
      ]
    },
    {
      "cell_type": "markdown",
      "source": [
        "Для CountVectorizer возьму Naive Bayes Multinomial, а для TfidfVectorizer Complement Naive Bayes, так они показывают лучшие результаты"
      ],
      "metadata": {
        "id": "I7tuCxutW2KN"
      }
    },
    {
      "cell_type": "markdown",
      "source": [
        "## Обучение моделей:"
      ],
      "metadata": {
        "id": "lhTWBgmLLqKg"
      }
    },
    {
      "cell_type": "markdown",
      "source": [
        "Выполним подбор гипер-параметров через пайплайн сразу для векторизации при помощи CountVectorizer и моделей:"
      ],
      "metadata": {
        "id": "3Wz5q_ALzoTf"
      }
    },
    {
      "cell_type": "markdown",
      "source": [
        "### LR + CountVectorizer"
      ],
      "metadata": {
        "id": "BPzEDe1yVpUM"
      }
    },
    {
      "cell_type": "code",
      "source": [
        "pipe_counter_lr = Pipeline(\n",
        "    steps=[\n",
        "        ('counter', CountVectorizer()),\n",
        "        ('tfidf', TfidfTransformer()),\n",
        "        ('clf', LogisticRegression())\n",
        "    ]\n",
        ")"
      ],
      "metadata": {
        "id": "X264Vh_z2pER"
      },
      "execution_count": null,
      "outputs": []
    },
    {
      "cell_type": "code",
      "source": [
        "parameter_grid = {'counter__max_df': np.arange(0.5, 1, 0.1),\n",
        "                  'counter__min_df': np.arange(0.001, 0.01, 0.001),\n",
        "                  \"counter__ngram_range\": ((1, 1), (1, 2)),\n",
        "                  \"tfidf__norm\": (\"l1\", \"l2\"),\n",
        "                  \"clf__C\": [0.001, 0.01, 0.1, 1, 10, 100]}"
      ],
      "metadata": {
        "id": "2f3Tqhby5m6O"
      },
      "execution_count": null,
      "outputs": []
    },
    {
      "cell_type": "code",
      "source": [
        "%%time\n",
        "\n",
        "grid_search_counter_lr = HalvingGridSearchCV(\n",
        "    pipe_counter_lr,\n",
        "    param_grid=parameter_grid,\n",
        "    n_jobs=-1,\n",
        "    verbose=1,\n",
        "    cv=skf,\n",
        "    scoring='accuracy',\n",
        "    random_state=42,\n",
        ")\n",
        "\n",
        "grid_search_counter_lr.fit(X_train, y_train);"
      ],
      "metadata": {
        "colab": {
          "base_uri": "https://localhost:8080/",
          "height": 778
        },
        "id": "LaxmRPZW6WTC",
        "outputId": "85a58d30-1b57-4849-f6ea-8bd714ca10ec"
      },
      "execution_count": null,
      "outputs": [
        {
          "output_type": "stream",
          "name": "stdout",
          "text": [
            "n_iterations: 5\n",
            "n_required_iterations: 7\n",
            "n_possible_iterations: 5\n",
            "min_resources_: 20\n",
            "max_resources_: 2097\n",
            "aggressive_elimination: False\n",
            "factor: 3\n",
            "----------\n",
            "iter: 0\n",
            "n_candidates: 1080\n",
            "n_resources: 20\n",
            "Fitting 5 folds for each of 1080 candidates, totalling 5400 fits\n",
            "----------\n",
            "iter: 1\n",
            "n_candidates: 360\n",
            "n_resources: 60\n",
            "Fitting 5 folds for each of 360 candidates, totalling 1800 fits\n",
            "----------\n",
            "iter: 2\n",
            "n_candidates: 120\n",
            "n_resources: 180\n",
            "Fitting 5 folds for each of 120 candidates, totalling 600 fits\n",
            "----------\n",
            "iter: 3\n",
            "n_candidates: 40\n",
            "n_resources: 540\n",
            "Fitting 5 folds for each of 40 candidates, totalling 200 fits\n",
            "----------\n",
            "iter: 4\n",
            "n_candidates: 14\n",
            "n_resources: 1620\n",
            "Fitting 5 folds for each of 14 candidates, totalling 70 fits\n",
            "CPU times: user 25.3 s, sys: 2.4 s, total: 27.7 s\n",
            "Wall time: 6min 50s\n"
          ]
        },
        {
          "output_type": "execute_result",
          "data": {
            "text/plain": [
              "HalvingGridSearchCV(cv=StratifiedKFold(n_splits=5, random_state=2786, shuffle=True),\n",
              "                    estimator=Pipeline(steps=[('counter', CountVectorizer()),\n",
              "                                              ('tfidf', TfidfTransformer()),\n",
              "                                              ('clf', LogisticRegression())]),\n",
              "                    n_jobs=-1,\n",
              "                    param_grid={'clf__C': [0.001, 0.01, 0.1, 1, 10, 100],\n",
              "                                'counter__max_df': array([0.5, 0.6, 0.7, 0.8, 0.9]),\n",
              "                                'counter__min_df': array([0.001, 0.002, 0.003, 0.004, 0.005, 0.006, 0.007, 0.008, 0.009]),\n",
              "                                'counter__ngram_range': ((1, 1), (1, 2)),\n",
              "                                'tfidf__norm': ('l1', 'l2')},\n",
              "                    random_state=42, scoring='accuracy', verbose=1)"
            ],
            "text/html": [
              "<style>#sk-container-id-3 {color: black;background-color: white;}#sk-container-id-3 pre{padding: 0;}#sk-container-id-3 div.sk-toggleable {background-color: white;}#sk-container-id-3 label.sk-toggleable__label {cursor: pointer;display: block;width: 100%;margin-bottom: 0;padding: 0.3em;box-sizing: border-box;text-align: center;}#sk-container-id-3 label.sk-toggleable__label-arrow:before {content: \"▸\";float: left;margin-right: 0.25em;color: #696969;}#sk-container-id-3 label.sk-toggleable__label-arrow:hover:before {color: black;}#sk-container-id-3 div.sk-estimator:hover label.sk-toggleable__label-arrow:before {color: black;}#sk-container-id-3 div.sk-toggleable__content {max-height: 0;max-width: 0;overflow: hidden;text-align: left;background-color: #f0f8ff;}#sk-container-id-3 div.sk-toggleable__content pre {margin: 0.2em;color: black;border-radius: 0.25em;background-color: #f0f8ff;}#sk-container-id-3 input.sk-toggleable__control:checked~div.sk-toggleable__content {max-height: 200px;max-width: 100%;overflow: auto;}#sk-container-id-3 input.sk-toggleable__control:checked~label.sk-toggleable__label-arrow:before {content: \"▾\";}#sk-container-id-3 div.sk-estimator input.sk-toggleable__control:checked~label.sk-toggleable__label {background-color: #d4ebff;}#sk-container-id-3 div.sk-label input.sk-toggleable__control:checked~label.sk-toggleable__label {background-color: #d4ebff;}#sk-container-id-3 input.sk-hidden--visually {border: 0;clip: rect(1px 1px 1px 1px);clip: rect(1px, 1px, 1px, 1px);height: 1px;margin: -1px;overflow: hidden;padding: 0;position: absolute;width: 1px;}#sk-container-id-3 div.sk-estimator {font-family: monospace;background-color: #f0f8ff;border: 1px dotted black;border-radius: 0.25em;box-sizing: border-box;margin-bottom: 0.5em;}#sk-container-id-3 div.sk-estimator:hover {background-color: #d4ebff;}#sk-container-id-3 div.sk-parallel-item::after {content: \"\";width: 100%;border-bottom: 1px solid gray;flex-grow: 1;}#sk-container-id-3 div.sk-label:hover label.sk-toggleable__label {background-color: #d4ebff;}#sk-container-id-3 div.sk-serial::before {content: \"\";position: absolute;border-left: 1px solid gray;box-sizing: border-box;top: 0;bottom: 0;left: 50%;z-index: 0;}#sk-container-id-3 div.sk-serial {display: flex;flex-direction: column;align-items: center;background-color: white;padding-right: 0.2em;padding-left: 0.2em;position: relative;}#sk-container-id-3 div.sk-item {position: relative;z-index: 1;}#sk-container-id-3 div.sk-parallel {display: flex;align-items: stretch;justify-content: center;background-color: white;position: relative;}#sk-container-id-3 div.sk-item::before, #sk-container-id-3 div.sk-parallel-item::before {content: \"\";position: absolute;border-left: 1px solid gray;box-sizing: border-box;top: 0;bottom: 0;left: 50%;z-index: -1;}#sk-container-id-3 div.sk-parallel-item {display: flex;flex-direction: column;z-index: 1;position: relative;background-color: white;}#sk-container-id-3 div.sk-parallel-item:first-child::after {align-self: flex-end;width: 50%;}#sk-container-id-3 div.sk-parallel-item:last-child::after {align-self: flex-start;width: 50%;}#sk-container-id-3 div.sk-parallel-item:only-child::after {width: 0;}#sk-container-id-3 div.sk-dashed-wrapped {border: 1px dashed gray;margin: 0 0.4em 0.5em 0.4em;box-sizing: border-box;padding-bottom: 0.4em;background-color: white;}#sk-container-id-3 div.sk-label label {font-family: monospace;font-weight: bold;display: inline-block;line-height: 1.2em;}#sk-container-id-3 div.sk-label-container {text-align: center;}#sk-container-id-3 div.sk-container {/* jupyter's `normalize.less` sets `[hidden] { display: none; }` but bootstrap.min.css set `[hidden] { display: none !important; }` so we also need the `!important` here to be able to override the default hidden behavior on the sphinx rendered scikit-learn.org. See: https://github.com/scikit-learn/scikit-learn/issues/21755 */display: inline-block !important;position: relative;}#sk-container-id-3 div.sk-text-repr-fallback {display: none;}</style><div id=\"sk-container-id-3\" class=\"sk-top-container\"><div class=\"sk-text-repr-fallback\"><pre>HalvingGridSearchCV(cv=StratifiedKFold(n_splits=5, random_state=2786, shuffle=True),\n",
              "                    estimator=Pipeline(steps=[(&#x27;counter&#x27;, CountVectorizer()),\n",
              "                                              (&#x27;tfidf&#x27;, TfidfTransformer()),\n",
              "                                              (&#x27;clf&#x27;, LogisticRegression())]),\n",
              "                    n_jobs=-1,\n",
              "                    param_grid={&#x27;clf__C&#x27;: [0.001, 0.01, 0.1, 1, 10, 100],\n",
              "                                &#x27;counter__max_df&#x27;: array([0.5, 0.6, 0.7, 0.8, 0.9]),\n",
              "                                &#x27;counter__min_df&#x27;: array([0.001, 0.002, 0.003, 0.004, 0.005, 0.006, 0.007, 0.008, 0.009]),\n",
              "                                &#x27;counter__ngram_range&#x27;: ((1, 1), (1, 2)),\n",
              "                                &#x27;tfidf__norm&#x27;: (&#x27;l1&#x27;, &#x27;l2&#x27;)},\n",
              "                    random_state=42, scoring=&#x27;accuracy&#x27;, verbose=1)</pre><b>In a Jupyter environment, please rerun this cell to show the HTML representation or trust the notebook. <br />On GitHub, the HTML representation is unable to render, please try loading this page with nbviewer.org.</b></div><div class=\"sk-container\" hidden><div class=\"sk-item sk-dashed-wrapped\"><div class=\"sk-label-container\"><div class=\"sk-label sk-toggleable\"><input class=\"sk-toggleable__control sk-hidden--visually\" id=\"sk-estimator-id-11\" type=\"checkbox\" ><label for=\"sk-estimator-id-11\" class=\"sk-toggleable__label sk-toggleable__label-arrow\">HalvingGridSearchCV</label><div class=\"sk-toggleable__content\"><pre>HalvingGridSearchCV(cv=StratifiedKFold(n_splits=5, random_state=2786, shuffle=True),\n",
              "                    estimator=Pipeline(steps=[(&#x27;counter&#x27;, CountVectorizer()),\n",
              "                                              (&#x27;tfidf&#x27;, TfidfTransformer()),\n",
              "                                              (&#x27;clf&#x27;, LogisticRegression())]),\n",
              "                    n_jobs=-1,\n",
              "                    param_grid={&#x27;clf__C&#x27;: [0.001, 0.01, 0.1, 1, 10, 100],\n",
              "                                &#x27;counter__max_df&#x27;: array([0.5, 0.6, 0.7, 0.8, 0.9]),\n",
              "                                &#x27;counter__min_df&#x27;: array([0.001, 0.002, 0.003, 0.004, 0.005, 0.006, 0.007, 0.008, 0.009]),\n",
              "                                &#x27;counter__ngram_range&#x27;: ((1, 1), (1, 2)),\n",
              "                                &#x27;tfidf__norm&#x27;: (&#x27;l1&#x27;, &#x27;l2&#x27;)},\n",
              "                    random_state=42, scoring=&#x27;accuracy&#x27;, verbose=1)</pre></div></div></div><div class=\"sk-parallel\"><div class=\"sk-parallel-item\"><div class=\"sk-item\"><div class=\"sk-label-container\"><div class=\"sk-label sk-toggleable\"><input class=\"sk-toggleable__control sk-hidden--visually\" id=\"sk-estimator-id-12\" type=\"checkbox\" ><label for=\"sk-estimator-id-12\" class=\"sk-toggleable__label sk-toggleable__label-arrow\">estimator: Pipeline</label><div class=\"sk-toggleable__content\"><pre>Pipeline(steps=[(&#x27;counter&#x27;, CountVectorizer()), (&#x27;tfidf&#x27;, TfidfTransformer()),\n",
              "                (&#x27;clf&#x27;, LogisticRegression())])</pre></div></div></div><div class=\"sk-serial\"><div class=\"sk-item\"><div class=\"sk-serial\"><div class=\"sk-item\"><div class=\"sk-estimator sk-toggleable\"><input class=\"sk-toggleable__control sk-hidden--visually\" id=\"sk-estimator-id-13\" type=\"checkbox\" ><label for=\"sk-estimator-id-13\" class=\"sk-toggleable__label sk-toggleable__label-arrow\">CountVectorizer</label><div class=\"sk-toggleable__content\"><pre>CountVectorizer()</pre></div></div></div><div class=\"sk-item\"><div class=\"sk-estimator sk-toggleable\"><input class=\"sk-toggleable__control sk-hidden--visually\" id=\"sk-estimator-id-14\" type=\"checkbox\" ><label for=\"sk-estimator-id-14\" class=\"sk-toggleable__label sk-toggleable__label-arrow\">TfidfTransformer</label><div class=\"sk-toggleable__content\"><pre>TfidfTransformer()</pre></div></div></div><div class=\"sk-item\"><div class=\"sk-estimator sk-toggleable\"><input class=\"sk-toggleable__control sk-hidden--visually\" id=\"sk-estimator-id-15\" type=\"checkbox\" ><label for=\"sk-estimator-id-15\" class=\"sk-toggleable__label sk-toggleable__label-arrow\">LogisticRegression</label><div class=\"sk-toggleable__content\"><pre>LogisticRegression()</pre></div></div></div></div></div></div></div></div></div></div></div></div>"
            ]
          },
          "metadata": {},
          "execution_count": 60
        }
      ]
    },
    {
      "cell_type": "code",
      "source": [
        "grid_search_counter_lr.best_params_"
      ],
      "metadata": {
        "colab": {
          "base_uri": "https://localhost:8080/"
        },
        "id": "e3WaxB5R77jq",
        "outputId": "b557d9a4-46d1-49f4-eee6-960a3e87c83a"
      },
      "execution_count": null,
      "outputs": [
        {
          "output_type": "execute_result",
          "data": {
            "text/plain": [
              "{'clf__C': 100,\n",
              " 'counter__max_df': 0.7,\n",
              " 'counter__min_df': 0.007,\n",
              " 'counter__ngram_range': (1, 2),\n",
              " 'tfidf__norm': 'l2'}"
            ]
          },
          "metadata": {},
          "execution_count": 61
        }
      ]
    },
    {
      "cell_type": "markdown",
      "source": [
        "Результаты для LogisticRegression + CountVectorizer:"
      ],
      "metadata": {
        "id": "0m4uN55W8cZl"
      }
    },
    {
      "cell_type": "code",
      "source": [
        "lr_counter = grid_search_counter_lr.best_estimator_.predict(X_test)\n",
        "accuracy_lr_counter = accuracy_score(y_test, lr_counter)\n",
        "recall_lr_counter = recall_score(y_test, lr_counter)\n",
        "\n",
        "print(classification_report(y_test, lr_counter))"
      ],
      "metadata": {
        "colab": {
          "base_uri": "https://localhost:8080/"
        },
        "id": "uu4s7uYB8KR8",
        "outputId": "74d757e4-375e-4501-bbe8-5cd1225f99c4"
      },
      "execution_count": null,
      "outputs": [
        {
          "output_type": "stream",
          "name": "stdout",
          "text": [
            "              precision    recall  f1-score   support\n",
            "\n",
            "           0       0.99      1.00      0.99       748\n",
            "           1       0.99      0.95      0.97       152\n",
            "\n",
            "    accuracy                           0.99       900\n",
            "   macro avg       0.99      0.98      0.98       900\n",
            "weighted avg       0.99      0.99      0.99       900\n",
            "\n"
          ]
        }
      ]
    },
    {
      "cell_type": "markdown",
      "source": [
        "### DecisionTree + CountVectorizer"
      ],
      "metadata": {
        "id": "pK14rfCyV5bA"
      }
    },
    {
      "cell_type": "code",
      "source": [
        "pipe_counter_dclf = Pipeline(\n",
        "    steps=[\n",
        "        ('counter', CountVectorizer()),\n",
        "        ('tfidf', TfidfTransformer()),\n",
        "        ('clf', DecisionTreeClassifier())\n",
        "    ]\n",
        ")"
      ],
      "metadata": {
        "id": "Ro9RoGQi7PkS"
      },
      "execution_count": null,
      "outputs": []
    },
    {
      "cell_type": "code",
      "source": [
        "parameter_grid = {'counter__max_df': np.arange(0.5, 1, 0.1),\n",
        "                  'counter__min_df': np.arange(0.001, 0.01, 0.001),\n",
        "                  \"counter__ngram_range\": [(1, 2)],\n",
        "                  \"tfidf__norm\": (\"l1\", \"l2\"),\n",
        "                  \"clf__max_depth\": [8, 9, 10, 12, 14, 16],\n",
        "                  \"clf__min_samples_split\": [5, 10, 15],\n",
        "                  \"clf__criterion\": ['gini', 'entropy'],\n",
        "                  'clf__max_features': ['sqrt']\n",
        "}"
      ],
      "metadata": {
        "id": "sU0uwnEQ1H9d"
      },
      "execution_count": null,
      "outputs": []
    },
    {
      "cell_type": "code",
      "source": [
        "%%time\n",
        "\n",
        "grid_search_counter_dclf = HalvingGridSearchCV(\n",
        "    pipe_counter_dclf,\n",
        "    param_grid=parameter_grid,\n",
        "    n_jobs=-1,\n",
        "    cv=skf,\n",
        "    scoring='accuracy',\n",
        "    random_state=42,\n",
        ")\n",
        "\n",
        "grid_search_counter_dclf.fit(X_train, y_train);"
      ],
      "metadata": {
        "colab": {
          "base_uri": "https://localhost:8080/",
          "height": 223
        },
        "id": "CI3nhXkK-IPH",
        "outputId": "1580b52d-de3c-40e8-e57f-f475759297fb"
      },
      "execution_count": null,
      "outputs": [
        {
          "output_type": "stream",
          "name": "stdout",
          "text": [
            "CPU times: user 3.6 s, sys: 372 ms, total: 3.98 s\n",
            "Wall time: 1min 4s\n"
          ]
        },
        {
          "output_type": "execute_result",
          "data": {
            "text/plain": [
              "HalvingGridSearchCV(cv=StratifiedKFold(n_splits=5, random_state=2786, shuffle=True),\n",
              "                    estimator=Pipeline(steps=[('counter', CountVectorizer()),\n",
              "                                              ('tfidf', TfidfTransformer()),\n",
              "                                              ('clf',\n",
              "                                               DecisionTreeClassifier())]),\n",
              "                    n_jobs=-1,\n",
              "                    param_grid={'clf__criterion': ['gini', 'entropy'],\n",
              "                                'clf__max_depth': [8, 9, 10, 12, 14, 16],\n",
              "                                'clf__max_features': ['sqrt'],\n",
              "                                'clf__min_samples_split': [5, 10, 15],\n",
              "                                'counter__max_df': [0.9],\n",
              "                                'counter__min_df': [0.009],\n",
              "                                'counter__ngram_range': [(1, 2)],\n",
              "                                'tfidf__norm': ('l1', 'l2')},\n",
              "                    random_state=42, scoring='accuracy')"
            ],
            "text/html": [
              "<style>#sk-container-id-4 {color: black;background-color: white;}#sk-container-id-4 pre{padding: 0;}#sk-container-id-4 div.sk-toggleable {background-color: white;}#sk-container-id-4 label.sk-toggleable__label {cursor: pointer;display: block;width: 100%;margin-bottom: 0;padding: 0.3em;box-sizing: border-box;text-align: center;}#sk-container-id-4 label.sk-toggleable__label-arrow:before {content: \"▸\";float: left;margin-right: 0.25em;color: #696969;}#sk-container-id-4 label.sk-toggleable__label-arrow:hover:before {color: black;}#sk-container-id-4 div.sk-estimator:hover label.sk-toggleable__label-arrow:before {color: black;}#sk-container-id-4 div.sk-toggleable__content {max-height: 0;max-width: 0;overflow: hidden;text-align: left;background-color: #f0f8ff;}#sk-container-id-4 div.sk-toggleable__content pre {margin: 0.2em;color: black;border-radius: 0.25em;background-color: #f0f8ff;}#sk-container-id-4 input.sk-toggleable__control:checked~div.sk-toggleable__content {max-height: 200px;max-width: 100%;overflow: auto;}#sk-container-id-4 input.sk-toggleable__control:checked~label.sk-toggleable__label-arrow:before {content: \"▾\";}#sk-container-id-4 div.sk-estimator input.sk-toggleable__control:checked~label.sk-toggleable__label {background-color: #d4ebff;}#sk-container-id-4 div.sk-label input.sk-toggleable__control:checked~label.sk-toggleable__label {background-color: #d4ebff;}#sk-container-id-4 input.sk-hidden--visually {border: 0;clip: rect(1px 1px 1px 1px);clip: rect(1px, 1px, 1px, 1px);height: 1px;margin: -1px;overflow: hidden;padding: 0;position: absolute;width: 1px;}#sk-container-id-4 div.sk-estimator {font-family: monospace;background-color: #f0f8ff;border: 1px dotted black;border-radius: 0.25em;box-sizing: border-box;margin-bottom: 0.5em;}#sk-container-id-4 div.sk-estimator:hover {background-color: #d4ebff;}#sk-container-id-4 div.sk-parallel-item::after {content: \"\";width: 100%;border-bottom: 1px solid gray;flex-grow: 1;}#sk-container-id-4 div.sk-label:hover label.sk-toggleable__label {background-color: #d4ebff;}#sk-container-id-4 div.sk-serial::before {content: \"\";position: absolute;border-left: 1px solid gray;box-sizing: border-box;top: 0;bottom: 0;left: 50%;z-index: 0;}#sk-container-id-4 div.sk-serial {display: flex;flex-direction: column;align-items: center;background-color: white;padding-right: 0.2em;padding-left: 0.2em;position: relative;}#sk-container-id-4 div.sk-item {position: relative;z-index: 1;}#sk-container-id-4 div.sk-parallel {display: flex;align-items: stretch;justify-content: center;background-color: white;position: relative;}#sk-container-id-4 div.sk-item::before, #sk-container-id-4 div.sk-parallel-item::before {content: \"\";position: absolute;border-left: 1px solid gray;box-sizing: border-box;top: 0;bottom: 0;left: 50%;z-index: -1;}#sk-container-id-4 div.sk-parallel-item {display: flex;flex-direction: column;z-index: 1;position: relative;background-color: white;}#sk-container-id-4 div.sk-parallel-item:first-child::after {align-self: flex-end;width: 50%;}#sk-container-id-4 div.sk-parallel-item:last-child::after {align-self: flex-start;width: 50%;}#sk-container-id-4 div.sk-parallel-item:only-child::after {width: 0;}#sk-container-id-4 div.sk-dashed-wrapped {border: 1px dashed gray;margin: 0 0.4em 0.5em 0.4em;box-sizing: border-box;padding-bottom: 0.4em;background-color: white;}#sk-container-id-4 div.sk-label label {font-family: monospace;font-weight: bold;display: inline-block;line-height: 1.2em;}#sk-container-id-4 div.sk-label-container {text-align: center;}#sk-container-id-4 div.sk-container {/* jupyter's `normalize.less` sets `[hidden] { display: none; }` but bootstrap.min.css set `[hidden] { display: none !important; }` so we also need the `!important` here to be able to override the default hidden behavior on the sphinx rendered scikit-learn.org. See: https://github.com/scikit-learn/scikit-learn/issues/21755 */display: inline-block !important;position: relative;}#sk-container-id-4 div.sk-text-repr-fallback {display: none;}</style><div id=\"sk-container-id-4\" class=\"sk-top-container\"><div class=\"sk-text-repr-fallback\"><pre>HalvingGridSearchCV(cv=StratifiedKFold(n_splits=5, random_state=2786, shuffle=True),\n",
              "                    estimator=Pipeline(steps=[(&#x27;counter&#x27;, CountVectorizer()),\n",
              "                                              (&#x27;tfidf&#x27;, TfidfTransformer()),\n",
              "                                              (&#x27;clf&#x27;,\n",
              "                                               DecisionTreeClassifier())]),\n",
              "                    n_jobs=-1,\n",
              "                    param_grid={&#x27;clf__criterion&#x27;: [&#x27;gini&#x27;, &#x27;entropy&#x27;],\n",
              "                                &#x27;clf__max_depth&#x27;: [8, 9, 10, 12, 14, 16],\n",
              "                                &#x27;clf__max_features&#x27;: [&#x27;sqrt&#x27;],\n",
              "                                &#x27;clf__min_samples_split&#x27;: [5, 10, 15],\n",
              "                                &#x27;counter__max_df&#x27;: [0.9],\n",
              "                                &#x27;counter__min_df&#x27;: [0.009],\n",
              "                                &#x27;counter__ngram_range&#x27;: [(1, 2)],\n",
              "                                &#x27;tfidf__norm&#x27;: (&#x27;l1&#x27;, &#x27;l2&#x27;)},\n",
              "                    random_state=42, scoring=&#x27;accuracy&#x27;)</pre><b>In a Jupyter environment, please rerun this cell to show the HTML representation or trust the notebook. <br />On GitHub, the HTML representation is unable to render, please try loading this page with nbviewer.org.</b></div><div class=\"sk-container\" hidden><div class=\"sk-item sk-dashed-wrapped\"><div class=\"sk-label-container\"><div class=\"sk-label sk-toggleable\"><input class=\"sk-toggleable__control sk-hidden--visually\" id=\"sk-estimator-id-16\" type=\"checkbox\" ><label for=\"sk-estimator-id-16\" class=\"sk-toggleable__label sk-toggleable__label-arrow\">HalvingGridSearchCV</label><div class=\"sk-toggleable__content\"><pre>HalvingGridSearchCV(cv=StratifiedKFold(n_splits=5, random_state=2786, shuffle=True),\n",
              "                    estimator=Pipeline(steps=[(&#x27;counter&#x27;, CountVectorizer()),\n",
              "                                              (&#x27;tfidf&#x27;, TfidfTransformer()),\n",
              "                                              (&#x27;clf&#x27;,\n",
              "                                               DecisionTreeClassifier())]),\n",
              "                    n_jobs=-1,\n",
              "                    param_grid={&#x27;clf__criterion&#x27;: [&#x27;gini&#x27;, &#x27;entropy&#x27;],\n",
              "                                &#x27;clf__max_depth&#x27;: [8, 9, 10, 12, 14, 16],\n",
              "                                &#x27;clf__max_features&#x27;: [&#x27;sqrt&#x27;],\n",
              "                                &#x27;clf__min_samples_split&#x27;: [5, 10, 15],\n",
              "                                &#x27;counter__max_df&#x27;: [0.9],\n",
              "                                &#x27;counter__min_df&#x27;: [0.009],\n",
              "                                &#x27;counter__ngram_range&#x27;: [(1, 2)],\n",
              "                                &#x27;tfidf__norm&#x27;: (&#x27;l1&#x27;, &#x27;l2&#x27;)},\n",
              "                    random_state=42, scoring=&#x27;accuracy&#x27;)</pre></div></div></div><div class=\"sk-parallel\"><div class=\"sk-parallel-item\"><div class=\"sk-item\"><div class=\"sk-label-container\"><div class=\"sk-label sk-toggleable\"><input class=\"sk-toggleable__control sk-hidden--visually\" id=\"sk-estimator-id-17\" type=\"checkbox\" ><label for=\"sk-estimator-id-17\" class=\"sk-toggleable__label sk-toggleable__label-arrow\">estimator: Pipeline</label><div class=\"sk-toggleable__content\"><pre>Pipeline(steps=[(&#x27;counter&#x27;, CountVectorizer()), (&#x27;tfidf&#x27;, TfidfTransformer()),\n",
              "                (&#x27;clf&#x27;, DecisionTreeClassifier())])</pre></div></div></div><div class=\"sk-serial\"><div class=\"sk-item\"><div class=\"sk-serial\"><div class=\"sk-item\"><div class=\"sk-estimator sk-toggleable\"><input class=\"sk-toggleable__control sk-hidden--visually\" id=\"sk-estimator-id-18\" type=\"checkbox\" ><label for=\"sk-estimator-id-18\" class=\"sk-toggleable__label sk-toggleable__label-arrow\">CountVectorizer</label><div class=\"sk-toggleable__content\"><pre>CountVectorizer()</pre></div></div></div><div class=\"sk-item\"><div class=\"sk-estimator sk-toggleable\"><input class=\"sk-toggleable__control sk-hidden--visually\" id=\"sk-estimator-id-19\" type=\"checkbox\" ><label for=\"sk-estimator-id-19\" class=\"sk-toggleable__label sk-toggleable__label-arrow\">TfidfTransformer</label><div class=\"sk-toggleable__content\"><pre>TfidfTransformer()</pre></div></div></div><div class=\"sk-item\"><div class=\"sk-estimator sk-toggleable\"><input class=\"sk-toggleable__control sk-hidden--visually\" id=\"sk-estimator-id-20\" type=\"checkbox\" ><label for=\"sk-estimator-id-20\" class=\"sk-toggleable__label sk-toggleable__label-arrow\">DecisionTreeClassifier</label><div class=\"sk-toggleable__content\"><pre>DecisionTreeClassifier()</pre></div></div></div></div></div></div></div></div></div></div></div></div>"
            ]
          },
          "metadata": {},
          "execution_count": 65
        }
      ]
    },
    {
      "cell_type": "code",
      "source": [
        "grid_search_counter_dclf.best_params_"
      ],
      "metadata": {
        "colab": {
          "base_uri": "https://localhost:8080/"
        },
        "id": "WkIVDr4T3_nG",
        "outputId": "ce9339c1-ae51-4caf-b91a-c6826f4ba4bc"
      },
      "execution_count": null,
      "outputs": [
        {
          "output_type": "execute_result",
          "data": {
            "text/plain": [
              "{'clf__criterion': 'entropy',\n",
              " 'clf__max_depth': 14,\n",
              " 'clf__max_features': 'sqrt',\n",
              " 'clf__min_samples_split': 15,\n",
              " 'counter__max_df': 0.9,\n",
              " 'counter__min_df': 0.009,\n",
              " 'counter__ngram_range': (1, 2),\n",
              " 'tfidf__norm': 'l1'}"
            ]
          },
          "metadata": {},
          "execution_count": 66
        }
      ]
    },
    {
      "cell_type": "markdown",
      "source": [
        "Результаты для DecisionTreeClassifier + CountVectorizer:"
      ],
      "metadata": {
        "id": "uC_wH1HPKwaE"
      }
    },
    {
      "cell_type": "code",
      "source": [
        "dclf_counter = grid_search_counter_dclf.best_estimator_.predict(X_test)\n",
        "accuracy_dclf_counter = accuracy_score(y_test, dclf_counter)\n",
        "recall_dclf_counter = recall_score(y_test, dclf_counter)\n",
        "\n",
        "print(classification_report(y_test, dclf_counter))"
      ],
      "metadata": {
        "id": "W7PO0z0F3Px_",
        "colab": {
          "base_uri": "https://localhost:8080/"
        },
        "outputId": "c1b3e859-2653-4c71-9cd8-6dd7b5cea6dc"
      },
      "execution_count": null,
      "outputs": [
        {
          "output_type": "stream",
          "name": "stdout",
          "text": [
            "              precision    recall  f1-score   support\n",
            "\n",
            "           0       0.95      0.97      0.96       748\n",
            "           1       0.84      0.74      0.79       152\n",
            "\n",
            "    accuracy                           0.93       900\n",
            "   macro avg       0.89      0.85      0.87       900\n",
            "weighted avg       0.93      0.93      0.93       900\n",
            "\n"
          ]
        }
      ]
    },
    {
      "cell_type": "markdown",
      "source": [
        "### Naive Bayes + CountVectorizer"
      ],
      "metadata": {
        "id": "pNISXnZWV_Z_"
      }
    },
    {
      "cell_type": "code",
      "execution_count": 28,
      "metadata": {
        "id": "1ttvHVoiIh8a"
      },
      "outputs": [],
      "source": [
        "pipe_counter_nb = Pipeline(\n",
        "    steps=[\n",
        "        ('counter', CountVectorizer()),\n",
        "        ('tfidf', TfidfTransformer()),\n",
        "        ('clf', MultinomialNB())\n",
        "    ]\n",
        ")"
      ]
    },
    {
      "cell_type": "code",
      "source": [
        "parameter_grid = {'counter__max_df': np.arange(0.5, 1, 0.1),\n",
        "                  'counter__min_df': np.arange(0.005, 0.01, 0.001),\n",
        "                  \"counter__ngram_range\": ((1, 1), (1, 2)),\n",
        "                  \"tfidf__norm\": (\"l1\", \"l2\"),\n",
        "                  'clf__alpha': [0.1, 0.5, 1.0, 2.0, 5.0],\n",
        "                  'clf__fit_prior': [True, False]\n",
        "}"
      ],
      "metadata": {
        "id": "HS7Oz841Ed9i"
      },
      "execution_count": 29,
      "outputs": []
    },
    {
      "cell_type": "code",
      "source": [
        "%%time\n",
        "\n",
        "grid_search_counter_nb = HalvingGridSearchCV(\n",
        "    pipe_counter_nb,\n",
        "    param_grid=parameter_grid,\n",
        "    n_jobs=-1,\n",
        "    cv=skf,\n",
        "    scoring='accuracy',\n",
        "    random_state=42,\n",
        ")\n",
        "\n",
        "grid_search_counter_nb.fit(X_train, y_train);"
      ],
      "metadata": {
        "colab": {
          "base_uri": "https://localhost:8080/",
          "height": 220
        },
        "id": "IBFDStZsEgea",
        "outputId": "8594be48-0464-4fe7-e55a-6bf96be90b5a"
      },
      "execution_count": 30,
      "outputs": [
        {
          "output_type": "stream",
          "name": "stdout",
          "text": [
            "CPU times: user 20.5 s, sys: 2.06 s, total: 22.6 s\n",
            "Wall time: 4min 44s\n"
          ]
        },
        {
          "output_type": "execute_result",
          "data": {
            "text/plain": [
              "HalvingGridSearchCV(cv=StratifiedKFold(n_splits=5, random_state=2786, shuffle=True),\n",
              "                    estimator=Pipeline(steps=[('counter', CountVectorizer()),\n",
              "                                              ('tfidf', TfidfTransformer()),\n",
              "                                              ('clf', MultinomialNB())]),\n",
              "                    n_jobs=-1,\n",
              "                    param_grid={'clf__alpha': [0.1, 0.5, 1.0, 2.0, 5.0],\n",
              "                                'clf__fit_prior': [True, False],\n",
              "                                'counter__max_df': array([0.5, 0.6, 0.7, 0.8, 0.9]),\n",
              "                                'counter__min_df': array([0.005, 0.006, 0.007, 0.008, 0.009]),\n",
              "                                'counter__ngram_range': ((1, 1), (1, 2)),\n",
              "                                'tfidf__norm': ('l1', 'l2')},\n",
              "                    random_state=42, scoring='accuracy')"
            ],
            "text/html": [
              "<style>#sk-container-id-1 {color: black;background-color: white;}#sk-container-id-1 pre{padding: 0;}#sk-container-id-1 div.sk-toggleable {background-color: white;}#sk-container-id-1 label.sk-toggleable__label {cursor: pointer;display: block;width: 100%;margin-bottom: 0;padding: 0.3em;box-sizing: border-box;text-align: center;}#sk-container-id-1 label.sk-toggleable__label-arrow:before {content: \"▸\";float: left;margin-right: 0.25em;color: #696969;}#sk-container-id-1 label.sk-toggleable__label-arrow:hover:before {color: black;}#sk-container-id-1 div.sk-estimator:hover label.sk-toggleable__label-arrow:before {color: black;}#sk-container-id-1 div.sk-toggleable__content {max-height: 0;max-width: 0;overflow: hidden;text-align: left;background-color: #f0f8ff;}#sk-container-id-1 div.sk-toggleable__content pre {margin: 0.2em;color: black;border-radius: 0.25em;background-color: #f0f8ff;}#sk-container-id-1 input.sk-toggleable__control:checked~div.sk-toggleable__content {max-height: 200px;max-width: 100%;overflow: auto;}#sk-container-id-1 input.sk-toggleable__control:checked~label.sk-toggleable__label-arrow:before {content: \"▾\";}#sk-container-id-1 div.sk-estimator input.sk-toggleable__control:checked~label.sk-toggleable__label {background-color: #d4ebff;}#sk-container-id-1 div.sk-label input.sk-toggleable__control:checked~label.sk-toggleable__label {background-color: #d4ebff;}#sk-container-id-1 input.sk-hidden--visually {border: 0;clip: rect(1px 1px 1px 1px);clip: rect(1px, 1px, 1px, 1px);height: 1px;margin: -1px;overflow: hidden;padding: 0;position: absolute;width: 1px;}#sk-container-id-1 div.sk-estimator {font-family: monospace;background-color: #f0f8ff;border: 1px dotted black;border-radius: 0.25em;box-sizing: border-box;margin-bottom: 0.5em;}#sk-container-id-1 div.sk-estimator:hover {background-color: #d4ebff;}#sk-container-id-1 div.sk-parallel-item::after {content: \"\";width: 100%;border-bottom: 1px solid gray;flex-grow: 1;}#sk-container-id-1 div.sk-label:hover label.sk-toggleable__label {background-color: #d4ebff;}#sk-container-id-1 div.sk-serial::before {content: \"\";position: absolute;border-left: 1px solid gray;box-sizing: border-box;top: 0;bottom: 0;left: 50%;z-index: 0;}#sk-container-id-1 div.sk-serial {display: flex;flex-direction: column;align-items: center;background-color: white;padding-right: 0.2em;padding-left: 0.2em;position: relative;}#sk-container-id-1 div.sk-item {position: relative;z-index: 1;}#sk-container-id-1 div.sk-parallel {display: flex;align-items: stretch;justify-content: center;background-color: white;position: relative;}#sk-container-id-1 div.sk-item::before, #sk-container-id-1 div.sk-parallel-item::before {content: \"\";position: absolute;border-left: 1px solid gray;box-sizing: border-box;top: 0;bottom: 0;left: 50%;z-index: -1;}#sk-container-id-1 div.sk-parallel-item {display: flex;flex-direction: column;z-index: 1;position: relative;background-color: white;}#sk-container-id-1 div.sk-parallel-item:first-child::after {align-self: flex-end;width: 50%;}#sk-container-id-1 div.sk-parallel-item:last-child::after {align-self: flex-start;width: 50%;}#sk-container-id-1 div.sk-parallel-item:only-child::after {width: 0;}#sk-container-id-1 div.sk-dashed-wrapped {border: 1px dashed gray;margin: 0 0.4em 0.5em 0.4em;box-sizing: border-box;padding-bottom: 0.4em;background-color: white;}#sk-container-id-1 div.sk-label label {font-family: monospace;font-weight: bold;display: inline-block;line-height: 1.2em;}#sk-container-id-1 div.sk-label-container {text-align: center;}#sk-container-id-1 div.sk-container {/* jupyter's `normalize.less` sets `[hidden] { display: none; }` but bootstrap.min.css set `[hidden] { display: none !important; }` so we also need the `!important` here to be able to override the default hidden behavior on the sphinx rendered scikit-learn.org. See: https://github.com/scikit-learn/scikit-learn/issues/21755 */display: inline-block !important;position: relative;}#sk-container-id-1 div.sk-text-repr-fallback {display: none;}</style><div id=\"sk-container-id-1\" class=\"sk-top-container\"><div class=\"sk-text-repr-fallback\"><pre>HalvingGridSearchCV(cv=StratifiedKFold(n_splits=5, random_state=2786, shuffle=True),\n",
              "                    estimator=Pipeline(steps=[(&#x27;counter&#x27;, CountVectorizer()),\n",
              "                                              (&#x27;tfidf&#x27;, TfidfTransformer()),\n",
              "                                              (&#x27;clf&#x27;, MultinomialNB())]),\n",
              "                    n_jobs=-1,\n",
              "                    param_grid={&#x27;clf__alpha&#x27;: [0.1, 0.5, 1.0, 2.0, 5.0],\n",
              "                                &#x27;clf__fit_prior&#x27;: [True, False],\n",
              "                                &#x27;counter__max_df&#x27;: array([0.5, 0.6, 0.7, 0.8, 0.9]),\n",
              "                                &#x27;counter__min_df&#x27;: array([0.005, 0.006, 0.007, 0.008, 0.009]),\n",
              "                                &#x27;counter__ngram_range&#x27;: ((1, 1), (1, 2)),\n",
              "                                &#x27;tfidf__norm&#x27;: (&#x27;l1&#x27;, &#x27;l2&#x27;)},\n",
              "                    random_state=42, scoring=&#x27;accuracy&#x27;)</pre><b>In a Jupyter environment, please rerun this cell to show the HTML representation or trust the notebook. <br />On GitHub, the HTML representation is unable to render, please try loading this page with nbviewer.org.</b></div><div class=\"sk-container\" hidden><div class=\"sk-item sk-dashed-wrapped\"><div class=\"sk-label-container\"><div class=\"sk-label sk-toggleable\"><input class=\"sk-toggleable__control sk-hidden--visually\" id=\"sk-estimator-id-1\" type=\"checkbox\" ><label for=\"sk-estimator-id-1\" class=\"sk-toggleable__label sk-toggleable__label-arrow\">HalvingGridSearchCV</label><div class=\"sk-toggleable__content\"><pre>HalvingGridSearchCV(cv=StratifiedKFold(n_splits=5, random_state=2786, shuffle=True),\n",
              "                    estimator=Pipeline(steps=[(&#x27;counter&#x27;, CountVectorizer()),\n",
              "                                              (&#x27;tfidf&#x27;, TfidfTransformer()),\n",
              "                                              (&#x27;clf&#x27;, MultinomialNB())]),\n",
              "                    n_jobs=-1,\n",
              "                    param_grid={&#x27;clf__alpha&#x27;: [0.1, 0.5, 1.0, 2.0, 5.0],\n",
              "                                &#x27;clf__fit_prior&#x27;: [True, False],\n",
              "                                &#x27;counter__max_df&#x27;: array([0.5, 0.6, 0.7, 0.8, 0.9]),\n",
              "                                &#x27;counter__min_df&#x27;: array([0.005, 0.006, 0.007, 0.008, 0.009]),\n",
              "                                &#x27;counter__ngram_range&#x27;: ((1, 1), (1, 2)),\n",
              "                                &#x27;tfidf__norm&#x27;: (&#x27;l1&#x27;, &#x27;l2&#x27;)},\n",
              "                    random_state=42, scoring=&#x27;accuracy&#x27;)</pre></div></div></div><div class=\"sk-parallel\"><div class=\"sk-parallel-item\"><div class=\"sk-item\"><div class=\"sk-label-container\"><div class=\"sk-label sk-toggleable\"><input class=\"sk-toggleable__control sk-hidden--visually\" id=\"sk-estimator-id-2\" type=\"checkbox\" ><label for=\"sk-estimator-id-2\" class=\"sk-toggleable__label sk-toggleable__label-arrow\">estimator: Pipeline</label><div class=\"sk-toggleable__content\"><pre>Pipeline(steps=[(&#x27;counter&#x27;, CountVectorizer()), (&#x27;tfidf&#x27;, TfidfTransformer()),\n",
              "                (&#x27;clf&#x27;, MultinomialNB())])</pre></div></div></div><div class=\"sk-serial\"><div class=\"sk-item\"><div class=\"sk-serial\"><div class=\"sk-item\"><div class=\"sk-estimator sk-toggleable\"><input class=\"sk-toggleable__control sk-hidden--visually\" id=\"sk-estimator-id-3\" type=\"checkbox\" ><label for=\"sk-estimator-id-3\" class=\"sk-toggleable__label sk-toggleable__label-arrow\">CountVectorizer</label><div class=\"sk-toggleable__content\"><pre>CountVectorizer()</pre></div></div></div><div class=\"sk-item\"><div class=\"sk-estimator sk-toggleable\"><input class=\"sk-toggleable__control sk-hidden--visually\" id=\"sk-estimator-id-4\" type=\"checkbox\" ><label for=\"sk-estimator-id-4\" class=\"sk-toggleable__label sk-toggleable__label-arrow\">TfidfTransformer</label><div class=\"sk-toggleable__content\"><pre>TfidfTransformer()</pre></div></div></div><div class=\"sk-item\"><div class=\"sk-estimator sk-toggleable\"><input class=\"sk-toggleable__control sk-hidden--visually\" id=\"sk-estimator-id-5\" type=\"checkbox\" ><label for=\"sk-estimator-id-5\" class=\"sk-toggleable__label sk-toggleable__label-arrow\">MultinomialNB</label><div class=\"sk-toggleable__content\"><pre>MultinomialNB()</pre></div></div></div></div></div></div></div></div></div></div></div></div>"
            ]
          },
          "metadata": {},
          "execution_count": 30
        }
      ]
    },
    {
      "cell_type": "code",
      "source": [
        "grid_search_counter_nb.best_params_"
      ],
      "metadata": {
        "colab": {
          "base_uri": "https://localhost:8080/"
        },
        "id": "UpRBlLxQFWzG",
        "outputId": "7bfc3f07-c75e-4051-cba4-7e65382d6652"
      },
      "execution_count": 31,
      "outputs": [
        {
          "output_type": "execute_result",
          "data": {
            "text/plain": [
              "{'clf__alpha': 0.1,\n",
              " 'clf__fit_prior': False,\n",
              " 'counter__max_df': 0.6,\n",
              " 'counter__min_df': 0.005,\n",
              " 'counter__ngram_range': (1, 2),\n",
              " 'tfidf__norm': 'l2'}"
            ]
          },
          "metadata": {},
          "execution_count": 31
        }
      ]
    },
    {
      "cell_type": "markdown",
      "source": [
        "Результаты для Naive Bayes + CountVectorizer:"
      ],
      "metadata": {
        "id": "7E9OeGDGK3mK"
      }
    },
    {
      "cell_type": "code",
      "source": [
        "nb_counter = grid_search_counter_nb.best_estimator_.predict(X_test)\n",
        "accuracy_nb_counter = accuracy_score(y_test, nb_counter)\n",
        "recall_nb_counter = recall_score(y_test, nb_counter)\n",
        "\n",
        "print(classification_report(y_test, nb_counter))"
      ],
      "metadata": {
        "colab": {
          "base_uri": "https://localhost:8080/"
        },
        "id": "VKnjynW2Few0",
        "outputId": "b81b7a52-2851-4cf4-dc80-bfd93d5b1416"
      },
      "execution_count": 32,
      "outputs": [
        {
          "output_type": "stream",
          "name": "stdout",
          "text": [
            "              precision    recall  f1-score   support\n",
            "\n",
            "           0       0.99      0.98      0.99       748\n",
            "           1       0.91      0.97      0.94       152\n",
            "\n",
            "    accuracy                           0.98       900\n",
            "   macro avg       0.95      0.97      0.96       900\n",
            "weighted avg       0.98      0.98      0.98       900\n",
            "\n"
          ]
        }
      ]
    },
    {
      "cell_type": "markdown",
      "source": [
        "Подбор гипер-параметров через пайплайн для векторизации при помощи TfidfVectorizer и моделей:"
      ],
      "metadata": {
        "id": "gIX0yT8oL8j-"
      }
    },
    {
      "cell_type": "markdown",
      "source": [
        "### LR + TfidfVectorizer\n"
      ],
      "metadata": {
        "id": "ha2vcYlHWEYK"
      }
    },
    {
      "cell_type": "code",
      "source": [
        "pipe_tf_lr = Pipeline(\n",
        "    steps=[\n",
        "        ('tfidf', TfidfVectorizer()),\n",
        "        ('clf', LogisticRegression())\n",
        "    ]\n",
        ")"
      ],
      "metadata": {
        "id": "r8jxZ6aAGbMv"
      },
      "execution_count": null,
      "outputs": []
    },
    {
      "cell_type": "code",
      "source": [
        "parameter_grid = {'tfidf__max_df': np.arange(0.5, 1, 0.1),\n",
        "                  'tfidf__min_df': np.arange(0.005, 0.01, 0.001),\n",
        "                  \"tfidf__ngram_range\": ((1, 1), (1, 2)),\n",
        "                  \"tfidf__norm\": (\"l1\", \"l2\"),\n",
        "                  \"clf__C\": [0.001, 0.01, 0.1, 1, 10, 100]\n",
        "}"
      ],
      "metadata": {
        "id": "1rmRJqZKMmQE"
      },
      "execution_count": null,
      "outputs": []
    },
    {
      "cell_type": "code",
      "source": [
        "%%time\n",
        "\n",
        "grid_search_tf_lr = HalvingGridSearchCV(\n",
        "    pipe_tf_lr,\n",
        "    param_grid=parameter_grid,\n",
        "    n_jobs=-1,\n",
        "    cv=skf,\n",
        "    scoring='accuracy',\n",
        "    random_state=42,\n",
        ")\n",
        "\n",
        "grid_search_tf_lr.fit(X_train, y_train);"
      ],
      "metadata": {
        "colab": {
          "base_uri": "https://localhost:8080/",
          "height": 188
        },
        "id": "K6AgAH5sOlgD",
        "outputId": "bd63eef4-6bf5-493d-e8a5-1c4470ceabee"
      },
      "execution_count": null,
      "outputs": [
        {
          "output_type": "stream",
          "name": "stdout",
          "text": [
            "CPU times: user 13.4 s, sys: 1.2 s, total: 14.6 s\n",
            "Wall time: 3min 28s\n"
          ]
        },
        {
          "output_type": "execute_result",
          "data": {
            "text/plain": [
              "HalvingGridSearchCV(cv=StratifiedKFold(n_splits=5, random_state=2786, shuffle=True),\n",
              "                    estimator=Pipeline(steps=[('tfidf', TfidfVectorizer()),\n",
              "                                              ('clf', LogisticRegression())]),\n",
              "                    n_jobs=-1,\n",
              "                    param_grid={'clf__C': [0.001, 0.01, 0.1, 1, 10, 100],\n",
              "                                'tfidf__max_df': array([0.5, 0.6, 0.7, 0.8, 0.9]),\n",
              "                                'tfidf__min_df': array([0.005, 0.006, 0.007, 0.008, 0.009]),\n",
              "                                'tfidf__ngram_range': ((1, 1), (1, 2)),\n",
              "                                'tfidf__norm': ('l1', 'l2')},\n",
              "                    random_state=42, scoring='accuracy')"
            ],
            "text/html": [
              "<style>#sk-container-id-6 {color: black;background-color: white;}#sk-container-id-6 pre{padding: 0;}#sk-container-id-6 div.sk-toggleable {background-color: white;}#sk-container-id-6 label.sk-toggleable__label {cursor: pointer;display: block;width: 100%;margin-bottom: 0;padding: 0.3em;box-sizing: border-box;text-align: center;}#sk-container-id-6 label.sk-toggleable__label-arrow:before {content: \"▸\";float: left;margin-right: 0.25em;color: #696969;}#sk-container-id-6 label.sk-toggleable__label-arrow:hover:before {color: black;}#sk-container-id-6 div.sk-estimator:hover label.sk-toggleable__label-arrow:before {color: black;}#sk-container-id-6 div.sk-toggleable__content {max-height: 0;max-width: 0;overflow: hidden;text-align: left;background-color: #f0f8ff;}#sk-container-id-6 div.sk-toggleable__content pre {margin: 0.2em;color: black;border-radius: 0.25em;background-color: #f0f8ff;}#sk-container-id-6 input.sk-toggleable__control:checked~div.sk-toggleable__content {max-height: 200px;max-width: 100%;overflow: auto;}#sk-container-id-6 input.sk-toggleable__control:checked~label.sk-toggleable__label-arrow:before {content: \"▾\";}#sk-container-id-6 div.sk-estimator input.sk-toggleable__control:checked~label.sk-toggleable__label {background-color: #d4ebff;}#sk-container-id-6 div.sk-label input.sk-toggleable__control:checked~label.sk-toggleable__label {background-color: #d4ebff;}#sk-container-id-6 input.sk-hidden--visually {border: 0;clip: rect(1px 1px 1px 1px);clip: rect(1px, 1px, 1px, 1px);height: 1px;margin: -1px;overflow: hidden;padding: 0;position: absolute;width: 1px;}#sk-container-id-6 div.sk-estimator {font-family: monospace;background-color: #f0f8ff;border: 1px dotted black;border-radius: 0.25em;box-sizing: border-box;margin-bottom: 0.5em;}#sk-container-id-6 div.sk-estimator:hover {background-color: #d4ebff;}#sk-container-id-6 div.sk-parallel-item::after {content: \"\";width: 100%;border-bottom: 1px solid gray;flex-grow: 1;}#sk-container-id-6 div.sk-label:hover label.sk-toggleable__label {background-color: #d4ebff;}#sk-container-id-6 div.sk-serial::before {content: \"\";position: absolute;border-left: 1px solid gray;box-sizing: border-box;top: 0;bottom: 0;left: 50%;z-index: 0;}#sk-container-id-6 div.sk-serial {display: flex;flex-direction: column;align-items: center;background-color: white;padding-right: 0.2em;padding-left: 0.2em;position: relative;}#sk-container-id-6 div.sk-item {position: relative;z-index: 1;}#sk-container-id-6 div.sk-parallel {display: flex;align-items: stretch;justify-content: center;background-color: white;position: relative;}#sk-container-id-6 div.sk-item::before, #sk-container-id-6 div.sk-parallel-item::before {content: \"\";position: absolute;border-left: 1px solid gray;box-sizing: border-box;top: 0;bottom: 0;left: 50%;z-index: -1;}#sk-container-id-6 div.sk-parallel-item {display: flex;flex-direction: column;z-index: 1;position: relative;background-color: white;}#sk-container-id-6 div.sk-parallel-item:first-child::after {align-self: flex-end;width: 50%;}#sk-container-id-6 div.sk-parallel-item:last-child::after {align-self: flex-start;width: 50%;}#sk-container-id-6 div.sk-parallel-item:only-child::after {width: 0;}#sk-container-id-6 div.sk-dashed-wrapped {border: 1px dashed gray;margin: 0 0.4em 0.5em 0.4em;box-sizing: border-box;padding-bottom: 0.4em;background-color: white;}#sk-container-id-6 div.sk-label label {font-family: monospace;font-weight: bold;display: inline-block;line-height: 1.2em;}#sk-container-id-6 div.sk-label-container {text-align: center;}#sk-container-id-6 div.sk-container {/* jupyter's `normalize.less` sets `[hidden] { display: none; }` but bootstrap.min.css set `[hidden] { display: none !important; }` so we also need the `!important` here to be able to override the default hidden behavior on the sphinx rendered scikit-learn.org. See: https://github.com/scikit-learn/scikit-learn/issues/21755 */display: inline-block !important;position: relative;}#sk-container-id-6 div.sk-text-repr-fallback {display: none;}</style><div id=\"sk-container-id-6\" class=\"sk-top-container\"><div class=\"sk-text-repr-fallback\"><pre>HalvingGridSearchCV(cv=StratifiedKFold(n_splits=5, random_state=2786, shuffle=True),\n",
              "                    estimator=Pipeline(steps=[(&#x27;tfidf&#x27;, TfidfVectorizer()),\n",
              "                                              (&#x27;clf&#x27;, LogisticRegression())]),\n",
              "                    n_jobs=-1,\n",
              "                    param_grid={&#x27;clf__C&#x27;: [0.001, 0.01, 0.1, 1, 10, 100],\n",
              "                                &#x27;tfidf__max_df&#x27;: array([0.5, 0.6, 0.7, 0.8, 0.9]),\n",
              "                                &#x27;tfidf__min_df&#x27;: array([0.005, 0.006, 0.007, 0.008, 0.009]),\n",
              "                                &#x27;tfidf__ngram_range&#x27;: ((1, 1), (1, 2)),\n",
              "                                &#x27;tfidf__norm&#x27;: (&#x27;l1&#x27;, &#x27;l2&#x27;)},\n",
              "                    random_state=42, scoring=&#x27;accuracy&#x27;)</pre><b>In a Jupyter environment, please rerun this cell to show the HTML representation or trust the notebook. <br />On GitHub, the HTML representation is unable to render, please try loading this page with nbviewer.org.</b></div><div class=\"sk-container\" hidden><div class=\"sk-item sk-dashed-wrapped\"><div class=\"sk-label-container\"><div class=\"sk-label sk-toggleable\"><input class=\"sk-toggleable__control sk-hidden--visually\" id=\"sk-estimator-id-26\" type=\"checkbox\" ><label for=\"sk-estimator-id-26\" class=\"sk-toggleable__label sk-toggleable__label-arrow\">HalvingGridSearchCV</label><div class=\"sk-toggleable__content\"><pre>HalvingGridSearchCV(cv=StratifiedKFold(n_splits=5, random_state=2786, shuffle=True),\n",
              "                    estimator=Pipeline(steps=[(&#x27;tfidf&#x27;, TfidfVectorizer()),\n",
              "                                              (&#x27;clf&#x27;, LogisticRegression())]),\n",
              "                    n_jobs=-1,\n",
              "                    param_grid={&#x27;clf__C&#x27;: [0.001, 0.01, 0.1, 1, 10, 100],\n",
              "                                &#x27;tfidf__max_df&#x27;: array([0.5, 0.6, 0.7, 0.8, 0.9]),\n",
              "                                &#x27;tfidf__min_df&#x27;: array([0.005, 0.006, 0.007, 0.008, 0.009]),\n",
              "                                &#x27;tfidf__ngram_range&#x27;: ((1, 1), (1, 2)),\n",
              "                                &#x27;tfidf__norm&#x27;: (&#x27;l1&#x27;, &#x27;l2&#x27;)},\n",
              "                    random_state=42, scoring=&#x27;accuracy&#x27;)</pre></div></div></div><div class=\"sk-parallel\"><div class=\"sk-parallel-item\"><div class=\"sk-item\"><div class=\"sk-label-container\"><div class=\"sk-label sk-toggleable\"><input class=\"sk-toggleable__control sk-hidden--visually\" id=\"sk-estimator-id-27\" type=\"checkbox\" ><label for=\"sk-estimator-id-27\" class=\"sk-toggleable__label sk-toggleable__label-arrow\">estimator: Pipeline</label><div class=\"sk-toggleable__content\"><pre>Pipeline(steps=[(&#x27;tfidf&#x27;, TfidfVectorizer()), (&#x27;clf&#x27;, LogisticRegression())])</pre></div></div></div><div class=\"sk-serial\"><div class=\"sk-item\"><div class=\"sk-serial\"><div class=\"sk-item\"><div class=\"sk-estimator sk-toggleable\"><input class=\"sk-toggleable__control sk-hidden--visually\" id=\"sk-estimator-id-28\" type=\"checkbox\" ><label for=\"sk-estimator-id-28\" class=\"sk-toggleable__label sk-toggleable__label-arrow\">TfidfVectorizer</label><div class=\"sk-toggleable__content\"><pre>TfidfVectorizer()</pre></div></div></div><div class=\"sk-item\"><div class=\"sk-estimator sk-toggleable\"><input class=\"sk-toggleable__control sk-hidden--visually\" id=\"sk-estimator-id-29\" type=\"checkbox\" ><label for=\"sk-estimator-id-29\" class=\"sk-toggleable__label sk-toggleable__label-arrow\">LogisticRegression</label><div class=\"sk-toggleable__content\"><pre>LogisticRegression()</pre></div></div></div></div></div></div></div></div></div></div></div></div>"
            ]
          },
          "metadata": {},
          "execution_count": 75
        }
      ]
    },
    {
      "cell_type": "code",
      "source": [
        "grid_search_tf_lr.best_params_"
      ],
      "metadata": {
        "colab": {
          "base_uri": "https://localhost:8080/"
        },
        "id": "yQKsg9C1OzrD",
        "outputId": "2128fb0c-1073-4d25-d0d1-2cfe27ebfbe8"
      },
      "execution_count": null,
      "outputs": [
        {
          "output_type": "execute_result",
          "data": {
            "text/plain": [
              "{'clf__C': 100,\n",
              " 'tfidf__max_df': 0.7,\n",
              " 'tfidf__min_df': 0.007,\n",
              " 'tfidf__ngram_range': (1, 2),\n",
              " 'tfidf__norm': 'l2'}"
            ]
          },
          "metadata": {},
          "execution_count": 76
        }
      ]
    },
    {
      "cell_type": "markdown",
      "source": [
        "Результаты для LogisticRegression + TfidfVectorizer:"
      ],
      "metadata": {
        "id": "xY5s4Gn_WfuA"
      }
    },
    {
      "cell_type": "code",
      "source": [
        "lr_tf = grid_search_tf_lr.best_estimator_.predict(X_test)\n",
        "accuracy_lr_tf = accuracy_score(y_test, lr_tf)\n",
        "recall_lr_tf = recall_score(y_test, lr_tf)\n",
        "\n",
        "print(classification_report(y_test, lr_tf))"
      ],
      "metadata": {
        "colab": {
          "base_uri": "https://localhost:8080/"
        },
        "id": "W1vyCOlGPedb",
        "outputId": "3a93e812-c951-4186-a10c-67f0315a5d31"
      },
      "execution_count": null,
      "outputs": [
        {
          "output_type": "stream",
          "name": "stdout",
          "text": [
            "              precision    recall  f1-score   support\n",
            "\n",
            "           0       0.99      1.00      0.99       748\n",
            "           1       0.99      0.95      0.97       152\n",
            "\n",
            "    accuracy                           0.99       900\n",
            "   macro avg       0.99      0.98      0.98       900\n",
            "weighted avg       0.99      0.99      0.99       900\n",
            "\n"
          ]
        }
      ]
    },
    {
      "cell_type": "markdown",
      "source": [
        "### DecisionTree + TfidfVectorizer\n",
        "\n"
      ],
      "metadata": {
        "id": "vKwSikpGWQtw"
      }
    },
    {
      "cell_type": "code",
      "source": [
        "pipe_tf_dclf = Pipeline(\n",
        "    steps=[\n",
        "        ('tfidf', TfidfVectorizer()),\n",
        "        ('clf', DecisionTreeClassifier())\n",
        "    ]\n",
        ")"
      ],
      "metadata": {
        "id": "LnMQuu3eRgTg"
      },
      "execution_count": null,
      "outputs": []
    },
    {
      "cell_type": "code",
      "source": [
        "parameter_grid = {'tfidf__max_df': np.arange(0.5, 1, 0.1),\n",
        "                  'tfidf__min_df': np.arange(0.005, 0.01, 0.001),\n",
        "                  \"tfidf__ngram_range\": ((1, 1), (1, 2)),\n",
        "                  \"tfidf__norm\": (\"l1\", \"l2\"),\n",
        "                  \"clf__max_depth\": [8, 9, 10, 12, 14, 16],\n",
        "                  \"clf__min_samples_split\": [5, 10, 15],\n",
        "                  \"clf__criterion\": ['gini'],\n",
        "                  'clf__max_features': ['sqrt', 'log2']\n",
        "}"
      ],
      "metadata": {
        "id": "NobhfQFgRTJ8"
      },
      "execution_count": null,
      "outputs": []
    },
    {
      "cell_type": "markdown",
      "source": [
        "⬇ Не запускать, работает 21 минуту 27 секунд\n",
        "\n"
      ],
      "metadata": {
        "id": "U7-0FLp6W09a"
      }
    },
    {
      "cell_type": "code",
      "source": [
        "%%time\n",
        "\n",
        "grid_search_tf_dclf = HalvingGridSearchCV(\n",
        "    pipe_tf_dclf,\n",
        "    param_grid=parameter_grid,\n",
        "    n_jobs=-1,\n",
        "    cv=skf,\n",
        "    scoring='accuracy',\n",
        "    random_state=42,\n",
        ")\n",
        "\n",
        "grid_search_tf_dclf.fit(X_train, y_train);"
      ],
      "metadata": {
        "colab": {
          "base_uri": "https://localhost:8080/",
          "height": 188
        },
        "id": "iFBaMBmnRmkw",
        "outputId": "f0b8035c-217d-465c-e0bc-2f334c4ef333"
      },
      "execution_count": null,
      "outputs": [
        {
          "output_type": "stream",
          "name": "stdout",
          "text": [
            "CPU times: user 54.7 s, sys: 4.63 s, total: 59.4 s\n",
            "Wall time: 14min 23s\n"
          ]
        },
        {
          "output_type": "execute_result",
          "data": {
            "text/plain": [
              "HalvingGridSearchCV(cv=StratifiedKFold(n_splits=5, random_state=2786, shuffle=True),\n",
              "                    estimator=Pipeline(steps=[('tfidf', TfidfVectorizer()),\n",
              "                                              ('clf',\n",
              "                                               DecisionTreeClassifier())]),\n",
              "                    n_jobs=-1,\n",
              "                    param_grid={'clf__criterion': ['gini'],\n",
              "                                'clf__max_depth': [8, 9, 10, 12, 14, 16],\n",
              "                                'clf__max_features': ['sqrt', 'log2'],\n",
              "                                'clf__min_samples_split': [5, 10, 15],\n",
              "                                'tfidf__max_df': array([0.5, 0.6, 0.7, 0.8, 0.9]),\n",
              "                                'tfidf__min_df': array([0.005, 0.006, 0.007, 0.008, 0.009]),\n",
              "                                'tfidf__ngram_range': ((1, 1), (1, 2)),\n",
              "                                'tfidf__norm': ('l1', 'l2')},\n",
              "                    random_state=42, scoring='recall')"
            ],
            "text/html": [
              "<style>#sk-container-id-9 {color: black;background-color: white;}#sk-container-id-9 pre{padding: 0;}#sk-container-id-9 div.sk-toggleable {background-color: white;}#sk-container-id-9 label.sk-toggleable__label {cursor: pointer;display: block;width: 100%;margin-bottom: 0;padding: 0.3em;box-sizing: border-box;text-align: center;}#sk-container-id-9 label.sk-toggleable__label-arrow:before {content: \"▸\";float: left;margin-right: 0.25em;color: #696969;}#sk-container-id-9 label.sk-toggleable__label-arrow:hover:before {color: black;}#sk-container-id-9 div.sk-estimator:hover label.sk-toggleable__label-arrow:before {color: black;}#sk-container-id-9 div.sk-toggleable__content {max-height: 0;max-width: 0;overflow: hidden;text-align: left;background-color: #f0f8ff;}#sk-container-id-9 div.sk-toggleable__content pre {margin: 0.2em;color: black;border-radius: 0.25em;background-color: #f0f8ff;}#sk-container-id-9 input.sk-toggleable__control:checked~div.sk-toggleable__content {max-height: 200px;max-width: 100%;overflow: auto;}#sk-container-id-9 input.sk-toggleable__control:checked~label.sk-toggleable__label-arrow:before {content: \"▾\";}#sk-container-id-9 div.sk-estimator input.sk-toggleable__control:checked~label.sk-toggleable__label {background-color: #d4ebff;}#sk-container-id-9 div.sk-label input.sk-toggleable__control:checked~label.sk-toggleable__label {background-color: #d4ebff;}#sk-container-id-9 input.sk-hidden--visually {border: 0;clip: rect(1px 1px 1px 1px);clip: rect(1px, 1px, 1px, 1px);height: 1px;margin: -1px;overflow: hidden;padding: 0;position: absolute;width: 1px;}#sk-container-id-9 div.sk-estimator {font-family: monospace;background-color: #f0f8ff;border: 1px dotted black;border-radius: 0.25em;box-sizing: border-box;margin-bottom: 0.5em;}#sk-container-id-9 div.sk-estimator:hover {background-color: #d4ebff;}#sk-container-id-9 div.sk-parallel-item::after {content: \"\";width: 100%;border-bottom: 1px solid gray;flex-grow: 1;}#sk-container-id-9 div.sk-label:hover label.sk-toggleable__label {background-color: #d4ebff;}#sk-container-id-9 div.sk-serial::before {content: \"\";position: absolute;border-left: 1px solid gray;box-sizing: border-box;top: 0;bottom: 0;left: 50%;z-index: 0;}#sk-container-id-9 div.sk-serial {display: flex;flex-direction: column;align-items: center;background-color: white;padding-right: 0.2em;padding-left: 0.2em;position: relative;}#sk-container-id-9 div.sk-item {position: relative;z-index: 1;}#sk-container-id-9 div.sk-parallel {display: flex;align-items: stretch;justify-content: center;background-color: white;position: relative;}#sk-container-id-9 div.sk-item::before, #sk-container-id-9 div.sk-parallel-item::before {content: \"\";position: absolute;border-left: 1px solid gray;box-sizing: border-box;top: 0;bottom: 0;left: 50%;z-index: -1;}#sk-container-id-9 div.sk-parallel-item {display: flex;flex-direction: column;z-index: 1;position: relative;background-color: white;}#sk-container-id-9 div.sk-parallel-item:first-child::after {align-self: flex-end;width: 50%;}#sk-container-id-9 div.sk-parallel-item:last-child::after {align-self: flex-start;width: 50%;}#sk-container-id-9 div.sk-parallel-item:only-child::after {width: 0;}#sk-container-id-9 div.sk-dashed-wrapped {border: 1px dashed gray;margin: 0 0.4em 0.5em 0.4em;box-sizing: border-box;padding-bottom: 0.4em;background-color: white;}#sk-container-id-9 div.sk-label label {font-family: monospace;font-weight: bold;display: inline-block;line-height: 1.2em;}#sk-container-id-9 div.sk-label-container {text-align: center;}#sk-container-id-9 div.sk-container {/* jupyter's `normalize.less` sets `[hidden] { display: none; }` but bootstrap.min.css set `[hidden] { display: none !important; }` so we also need the `!important` here to be able to override the default hidden behavior on the sphinx rendered scikit-learn.org. See: https://github.com/scikit-learn/scikit-learn/issues/21755 */display: inline-block !important;position: relative;}#sk-container-id-9 div.sk-text-repr-fallback {display: none;}</style><div id=\"sk-container-id-9\" class=\"sk-top-container\"><div class=\"sk-text-repr-fallback\"><pre>HalvingGridSearchCV(cv=StratifiedKFold(n_splits=5, random_state=2786, shuffle=True),\n",
              "                    estimator=Pipeline(steps=[(&#x27;tfidf&#x27;, TfidfVectorizer()),\n",
              "                                              (&#x27;clf&#x27;,\n",
              "                                               DecisionTreeClassifier())]),\n",
              "                    n_jobs=-1,\n",
              "                    param_grid={&#x27;clf__criterion&#x27;: [&#x27;gini&#x27;],\n",
              "                                &#x27;clf__max_depth&#x27;: [8, 9, 10, 12, 14, 16],\n",
              "                                &#x27;clf__max_features&#x27;: [&#x27;sqrt&#x27;, &#x27;log2&#x27;],\n",
              "                                &#x27;clf__min_samples_split&#x27;: [5, 10, 15],\n",
              "                                &#x27;tfidf__max_df&#x27;: array([0.5, 0.6, 0.7, 0.8, 0.9]),\n",
              "                                &#x27;tfidf__min_df&#x27;: array([0.005, 0.006, 0.007, 0.008, 0.009]),\n",
              "                                &#x27;tfidf__ngram_range&#x27;: ((1, 1), (1, 2)),\n",
              "                                &#x27;tfidf__norm&#x27;: (&#x27;l1&#x27;, &#x27;l2&#x27;)},\n",
              "                    random_state=42, scoring=&#x27;recall&#x27;)</pre><b>In a Jupyter environment, please rerun this cell to show the HTML representation or trust the notebook. <br />On GitHub, the HTML representation is unable to render, please try loading this page with nbviewer.org.</b></div><div class=\"sk-container\" hidden><div class=\"sk-item sk-dashed-wrapped\"><div class=\"sk-label-container\"><div class=\"sk-label sk-toggleable\"><input class=\"sk-toggleable__control sk-hidden--visually\" id=\"sk-estimator-id-38\" type=\"checkbox\" ><label for=\"sk-estimator-id-38\" class=\"sk-toggleable__label sk-toggleable__label-arrow\">HalvingGridSearchCV</label><div class=\"sk-toggleable__content\"><pre>HalvingGridSearchCV(cv=StratifiedKFold(n_splits=5, random_state=2786, shuffle=True),\n",
              "                    estimator=Pipeline(steps=[(&#x27;tfidf&#x27;, TfidfVectorizer()),\n",
              "                                              (&#x27;clf&#x27;,\n",
              "                                               DecisionTreeClassifier())]),\n",
              "                    n_jobs=-1,\n",
              "                    param_grid={&#x27;clf__criterion&#x27;: [&#x27;gini&#x27;],\n",
              "                                &#x27;clf__max_depth&#x27;: [8, 9, 10, 12, 14, 16],\n",
              "                                &#x27;clf__max_features&#x27;: [&#x27;sqrt&#x27;, &#x27;log2&#x27;],\n",
              "                                &#x27;clf__min_samples_split&#x27;: [5, 10, 15],\n",
              "                                &#x27;tfidf__max_df&#x27;: array([0.5, 0.6, 0.7, 0.8, 0.9]),\n",
              "                                &#x27;tfidf__min_df&#x27;: array([0.005, 0.006, 0.007, 0.008, 0.009]),\n",
              "                                &#x27;tfidf__ngram_range&#x27;: ((1, 1), (1, 2)),\n",
              "                                &#x27;tfidf__norm&#x27;: (&#x27;l1&#x27;, &#x27;l2&#x27;)},\n",
              "                    random_state=42, scoring=&#x27;recall&#x27;)</pre></div></div></div><div class=\"sk-parallel\"><div class=\"sk-parallel-item\"><div class=\"sk-item\"><div class=\"sk-label-container\"><div class=\"sk-label sk-toggleable\"><input class=\"sk-toggleable__control sk-hidden--visually\" id=\"sk-estimator-id-39\" type=\"checkbox\" ><label for=\"sk-estimator-id-39\" class=\"sk-toggleable__label sk-toggleable__label-arrow\">estimator: Pipeline</label><div class=\"sk-toggleable__content\"><pre>Pipeline(steps=[(&#x27;tfidf&#x27;, TfidfVectorizer()),\n",
              "                (&#x27;clf&#x27;, DecisionTreeClassifier())])</pre></div></div></div><div class=\"sk-serial\"><div class=\"sk-item\"><div class=\"sk-serial\"><div class=\"sk-item\"><div class=\"sk-estimator sk-toggleable\"><input class=\"sk-toggleable__control sk-hidden--visually\" id=\"sk-estimator-id-40\" type=\"checkbox\" ><label for=\"sk-estimator-id-40\" class=\"sk-toggleable__label sk-toggleable__label-arrow\">TfidfVectorizer</label><div class=\"sk-toggleable__content\"><pre>TfidfVectorizer()</pre></div></div></div><div class=\"sk-item\"><div class=\"sk-estimator sk-toggleable\"><input class=\"sk-toggleable__control sk-hidden--visually\" id=\"sk-estimator-id-41\" type=\"checkbox\" ><label for=\"sk-estimator-id-41\" class=\"sk-toggleable__label sk-toggleable__label-arrow\">DecisionTreeClassifier</label><div class=\"sk-toggleable__content\"><pre>DecisionTreeClassifier()</pre></div></div></div></div></div></div></div></div></div></div></div></div>"
            ]
          },
          "metadata": {},
          "execution_count": 94
        }
      ]
    },
    {
      "cell_type": "code",
      "source": [
        "grid_search_tf_dclf.best_params_"
      ],
      "metadata": {
        "colab": {
          "base_uri": "https://localhost:8080/"
        },
        "id": "VMFsvWreR011",
        "outputId": "b4c41375-698b-4f2c-9a2a-3df2ef7fa934"
      },
      "execution_count": null,
      "outputs": [
        {
          "output_type": "execute_result",
          "data": {
            "text/plain": [
              "{'clf__criterion': 'gini',\n",
              " 'clf__max_depth': 16,\n",
              " 'clf__max_features': 'sqrt',\n",
              " 'clf__min_samples_split': 5,\n",
              " 'tfidf__max_df': 0.5,\n",
              " 'tfidf__min_df': 0.006,\n",
              " 'tfidf__ngram_range': (1, 1),\n",
              " 'tfidf__norm': 'l2'}"
            ]
          },
          "metadata": {},
          "execution_count": 95
        }
      ]
    },
    {
      "cell_type": "markdown",
      "source": [
        "Результаты для DecisionTree + TfidfVectorizer:"
      ],
      "metadata": {
        "id": "vOV0lQLrWkOg"
      }
    },
    {
      "cell_type": "code",
      "source": [
        "dclf_tf = grid_search_tf_dclf.best_estimator_.predict(X_test)\n",
        "accuracy_dclf_tf = accuracy_score(y_test, dclf_tf)\n",
        "recall_dclf_tf = recall_score(y_test, dclf_tf)\n",
        "\n",
        "print(classification_report(y_test, dclf_tf))"
      ],
      "metadata": {
        "colab": {
          "base_uri": "https://localhost:8080/"
        },
        "id": "Yhw-wLIxSHsn",
        "outputId": "b0468ec1-32e8-47fe-b522-e9b502fa4bca"
      },
      "execution_count": null,
      "outputs": [
        {
          "output_type": "stream",
          "name": "stdout",
          "text": [
            "              precision    recall  f1-score   support\n",
            "\n",
            "           0       0.92      0.97      0.95       748\n",
            "           1       0.83      0.61      0.70       152\n",
            "\n",
            "    accuracy                           0.91       900\n",
            "   macro avg       0.88      0.79      0.82       900\n",
            "weighted avg       0.91      0.91      0.91       900\n",
            "\n"
          ]
        }
      ]
    },
    {
      "cell_type": "markdown",
      "source": [
        "### Naive Bayes + TfidfVectorizer\n",
        "\n"
      ],
      "metadata": {
        "id": "39DtPsFuWW0m"
      }
    },
    {
      "cell_type": "code",
      "source": [
        "pipe_tf_nb = Pipeline(\n",
        "    steps=[\n",
        "        ('tfidf', TfidfVectorizer()),\n",
        "        ('clf', ComplementNB())\n",
        "    ]\n",
        ")"
      ],
      "metadata": {
        "id": "c3hT9HNSSUO0"
      },
      "execution_count": 45,
      "outputs": []
    },
    {
      "cell_type": "code",
      "source": [
        "parameter_grid = {'tfidf__max_df': np.arange(0.5, 1, 0.1),\n",
        "                  'tfidf__min_df': np.arange(0.005, 0.01, 0.001),\n",
        "                  \"tfidf__ngram_range\": ((1, 1), (1, 2)),\n",
        "                  \"tfidf__norm\": (\"l1\", \"l2\"),\n",
        "                  'clf__alpha': [0.1, 0.5, 1.0, 2.0, 5.0],\n",
        "                  'clf__fit_prior': [True, False]\n",
        "}"
      ],
      "metadata": {
        "id": "BxnpvjgSSTp1"
      },
      "execution_count": 46,
      "outputs": []
    },
    {
      "cell_type": "code",
      "source": [
        "%%time\n",
        "\n",
        "grid_search_tf_nb = HalvingGridSearchCV(\n",
        "    pipe_tf_nb,\n",
        "    param_grid=parameter_grid,\n",
        "    n_jobs=-1,\n",
        "    cv=skf,\n",
        "    scoring='accuracy',\n",
        "    random_state=42,\n",
        ")\n",
        "\n",
        "grid_search_tf_nb.fit(X_train, y_train);"
      ],
      "metadata": {
        "colab": {
          "base_uri": "https://localhost:8080/",
          "height": 186
        },
        "id": "EFZsbnNfUbNO",
        "outputId": "328caf6b-c092-47db-b3c8-8c7ad9e0b731"
      },
      "execution_count": 47,
      "outputs": [
        {
          "output_type": "stream",
          "name": "stdout",
          "text": [
            "CPU times: user 15.7 s, sys: 1.53 s, total: 17.2 s\n",
            "Wall time: 4min 55s\n"
          ]
        },
        {
          "output_type": "execute_result",
          "data": {
            "text/plain": [
              "HalvingGridSearchCV(cv=StratifiedKFold(n_splits=5, random_state=2786, shuffle=True),\n",
              "                    estimator=Pipeline(steps=[('tfidf', TfidfVectorizer()),\n",
              "                                              ('clf', ComplementNB())]),\n",
              "                    n_jobs=-1,\n",
              "                    param_grid={'clf__alpha': [0.1, 0.5, 1.0, 2.0, 5.0],\n",
              "                                'clf__fit_prior': [True, False],\n",
              "                                'tfidf__max_df': array([0.5, 0.6, 0.7, 0.8, 0.9]),\n",
              "                                'tfidf__min_df': array([0.005, 0.006, 0.007, 0.008, 0.009]),\n",
              "                                'tfidf__ngram_range': ((1, 1), (1, 2)),\n",
              "                                'tfidf__norm': ('l1', 'l2')},\n",
              "                    random_state=42, scoring='accuracy')"
            ],
            "text/html": [
              "<style>#sk-container-id-2 {color: black;background-color: white;}#sk-container-id-2 pre{padding: 0;}#sk-container-id-2 div.sk-toggleable {background-color: white;}#sk-container-id-2 label.sk-toggleable__label {cursor: pointer;display: block;width: 100%;margin-bottom: 0;padding: 0.3em;box-sizing: border-box;text-align: center;}#sk-container-id-2 label.sk-toggleable__label-arrow:before {content: \"▸\";float: left;margin-right: 0.25em;color: #696969;}#sk-container-id-2 label.sk-toggleable__label-arrow:hover:before {color: black;}#sk-container-id-2 div.sk-estimator:hover label.sk-toggleable__label-arrow:before {color: black;}#sk-container-id-2 div.sk-toggleable__content {max-height: 0;max-width: 0;overflow: hidden;text-align: left;background-color: #f0f8ff;}#sk-container-id-2 div.sk-toggleable__content pre {margin: 0.2em;color: black;border-radius: 0.25em;background-color: #f0f8ff;}#sk-container-id-2 input.sk-toggleable__control:checked~div.sk-toggleable__content {max-height: 200px;max-width: 100%;overflow: auto;}#sk-container-id-2 input.sk-toggleable__control:checked~label.sk-toggleable__label-arrow:before {content: \"▾\";}#sk-container-id-2 div.sk-estimator input.sk-toggleable__control:checked~label.sk-toggleable__label {background-color: #d4ebff;}#sk-container-id-2 div.sk-label input.sk-toggleable__control:checked~label.sk-toggleable__label {background-color: #d4ebff;}#sk-container-id-2 input.sk-hidden--visually {border: 0;clip: rect(1px 1px 1px 1px);clip: rect(1px, 1px, 1px, 1px);height: 1px;margin: -1px;overflow: hidden;padding: 0;position: absolute;width: 1px;}#sk-container-id-2 div.sk-estimator {font-family: monospace;background-color: #f0f8ff;border: 1px dotted black;border-radius: 0.25em;box-sizing: border-box;margin-bottom: 0.5em;}#sk-container-id-2 div.sk-estimator:hover {background-color: #d4ebff;}#sk-container-id-2 div.sk-parallel-item::after {content: \"\";width: 100%;border-bottom: 1px solid gray;flex-grow: 1;}#sk-container-id-2 div.sk-label:hover label.sk-toggleable__label {background-color: #d4ebff;}#sk-container-id-2 div.sk-serial::before {content: \"\";position: absolute;border-left: 1px solid gray;box-sizing: border-box;top: 0;bottom: 0;left: 50%;z-index: 0;}#sk-container-id-2 div.sk-serial {display: flex;flex-direction: column;align-items: center;background-color: white;padding-right: 0.2em;padding-left: 0.2em;position: relative;}#sk-container-id-2 div.sk-item {position: relative;z-index: 1;}#sk-container-id-2 div.sk-parallel {display: flex;align-items: stretch;justify-content: center;background-color: white;position: relative;}#sk-container-id-2 div.sk-item::before, #sk-container-id-2 div.sk-parallel-item::before {content: \"\";position: absolute;border-left: 1px solid gray;box-sizing: border-box;top: 0;bottom: 0;left: 50%;z-index: -1;}#sk-container-id-2 div.sk-parallel-item {display: flex;flex-direction: column;z-index: 1;position: relative;background-color: white;}#sk-container-id-2 div.sk-parallel-item:first-child::after {align-self: flex-end;width: 50%;}#sk-container-id-2 div.sk-parallel-item:last-child::after {align-self: flex-start;width: 50%;}#sk-container-id-2 div.sk-parallel-item:only-child::after {width: 0;}#sk-container-id-2 div.sk-dashed-wrapped {border: 1px dashed gray;margin: 0 0.4em 0.5em 0.4em;box-sizing: border-box;padding-bottom: 0.4em;background-color: white;}#sk-container-id-2 div.sk-label label {font-family: monospace;font-weight: bold;display: inline-block;line-height: 1.2em;}#sk-container-id-2 div.sk-label-container {text-align: center;}#sk-container-id-2 div.sk-container {/* jupyter's `normalize.less` sets `[hidden] { display: none; }` but bootstrap.min.css set `[hidden] { display: none !important; }` so we also need the `!important` here to be able to override the default hidden behavior on the sphinx rendered scikit-learn.org. See: https://github.com/scikit-learn/scikit-learn/issues/21755 */display: inline-block !important;position: relative;}#sk-container-id-2 div.sk-text-repr-fallback {display: none;}</style><div id=\"sk-container-id-2\" class=\"sk-top-container\"><div class=\"sk-text-repr-fallback\"><pre>HalvingGridSearchCV(cv=StratifiedKFold(n_splits=5, random_state=2786, shuffle=True),\n",
              "                    estimator=Pipeline(steps=[(&#x27;tfidf&#x27;, TfidfVectorizer()),\n",
              "                                              (&#x27;clf&#x27;, ComplementNB())]),\n",
              "                    n_jobs=-1,\n",
              "                    param_grid={&#x27;clf__alpha&#x27;: [0.1, 0.5, 1.0, 2.0, 5.0],\n",
              "                                &#x27;clf__fit_prior&#x27;: [True, False],\n",
              "                                &#x27;tfidf__max_df&#x27;: array([0.5, 0.6, 0.7, 0.8, 0.9]),\n",
              "                                &#x27;tfidf__min_df&#x27;: array([0.005, 0.006, 0.007, 0.008, 0.009]),\n",
              "                                &#x27;tfidf__ngram_range&#x27;: ((1, 1), (1, 2)),\n",
              "                                &#x27;tfidf__norm&#x27;: (&#x27;l1&#x27;, &#x27;l2&#x27;)},\n",
              "                    random_state=42, scoring=&#x27;accuracy&#x27;)</pre><b>In a Jupyter environment, please rerun this cell to show the HTML representation or trust the notebook. <br />On GitHub, the HTML representation is unable to render, please try loading this page with nbviewer.org.</b></div><div class=\"sk-container\" hidden><div class=\"sk-item sk-dashed-wrapped\"><div class=\"sk-label-container\"><div class=\"sk-label sk-toggleable\"><input class=\"sk-toggleable__control sk-hidden--visually\" id=\"sk-estimator-id-6\" type=\"checkbox\" ><label for=\"sk-estimator-id-6\" class=\"sk-toggleable__label sk-toggleable__label-arrow\">HalvingGridSearchCV</label><div class=\"sk-toggleable__content\"><pre>HalvingGridSearchCV(cv=StratifiedKFold(n_splits=5, random_state=2786, shuffle=True),\n",
              "                    estimator=Pipeline(steps=[(&#x27;tfidf&#x27;, TfidfVectorizer()),\n",
              "                                              (&#x27;clf&#x27;, ComplementNB())]),\n",
              "                    n_jobs=-1,\n",
              "                    param_grid={&#x27;clf__alpha&#x27;: [0.1, 0.5, 1.0, 2.0, 5.0],\n",
              "                                &#x27;clf__fit_prior&#x27;: [True, False],\n",
              "                                &#x27;tfidf__max_df&#x27;: array([0.5, 0.6, 0.7, 0.8, 0.9]),\n",
              "                                &#x27;tfidf__min_df&#x27;: array([0.005, 0.006, 0.007, 0.008, 0.009]),\n",
              "                                &#x27;tfidf__ngram_range&#x27;: ((1, 1), (1, 2)),\n",
              "                                &#x27;tfidf__norm&#x27;: (&#x27;l1&#x27;, &#x27;l2&#x27;)},\n",
              "                    random_state=42, scoring=&#x27;accuracy&#x27;)</pre></div></div></div><div class=\"sk-parallel\"><div class=\"sk-parallel-item\"><div class=\"sk-item\"><div class=\"sk-label-container\"><div class=\"sk-label sk-toggleable\"><input class=\"sk-toggleable__control sk-hidden--visually\" id=\"sk-estimator-id-7\" type=\"checkbox\" ><label for=\"sk-estimator-id-7\" class=\"sk-toggleable__label sk-toggleable__label-arrow\">estimator: Pipeline</label><div class=\"sk-toggleable__content\"><pre>Pipeline(steps=[(&#x27;tfidf&#x27;, TfidfVectorizer()), (&#x27;clf&#x27;, ComplementNB())])</pre></div></div></div><div class=\"sk-serial\"><div class=\"sk-item\"><div class=\"sk-serial\"><div class=\"sk-item\"><div class=\"sk-estimator sk-toggleable\"><input class=\"sk-toggleable__control sk-hidden--visually\" id=\"sk-estimator-id-8\" type=\"checkbox\" ><label for=\"sk-estimator-id-8\" class=\"sk-toggleable__label sk-toggleable__label-arrow\">TfidfVectorizer</label><div class=\"sk-toggleable__content\"><pre>TfidfVectorizer()</pre></div></div></div><div class=\"sk-item\"><div class=\"sk-estimator sk-toggleable\"><input class=\"sk-toggleable__control sk-hidden--visually\" id=\"sk-estimator-id-9\" type=\"checkbox\" ><label for=\"sk-estimator-id-9\" class=\"sk-toggleable__label sk-toggleable__label-arrow\">ComplementNB</label><div class=\"sk-toggleable__content\"><pre>ComplementNB()</pre></div></div></div></div></div></div></div></div></div></div></div></div>"
            ]
          },
          "metadata": {},
          "execution_count": 47
        }
      ]
    },
    {
      "cell_type": "code",
      "source": [
        "grid_search_tf_nb.best_params_"
      ],
      "metadata": {
        "colab": {
          "base_uri": "https://localhost:8080/"
        },
        "id": "OztBa6_SSUog",
        "outputId": "29be35a5-b325-46eb-8da2-f553fdb828c7"
      },
      "execution_count": 49,
      "outputs": [
        {
          "output_type": "execute_result",
          "data": {
            "text/plain": [
              "{'clf__alpha': 5.0,\n",
              " 'clf__fit_prior': True,\n",
              " 'tfidf__max_df': 0.6,\n",
              " 'tfidf__min_df': 0.008,\n",
              " 'tfidf__ngram_range': (1, 2),\n",
              " 'tfidf__norm': 'l2'}"
            ]
          },
          "metadata": {},
          "execution_count": 49
        }
      ]
    },
    {
      "cell_type": "markdown",
      "source": [
        "Результаты для Naive Bayes + TfidfVectorizer:"
      ],
      "metadata": {
        "id": "9pjfoMEaWrGR"
      }
    },
    {
      "cell_type": "code",
      "source": [
        "nb_tf = grid_search_tf_nb.best_estimator_.predict(X_test)\n",
        "accuracy_nb_tf = accuracy_score(y_test, nb_tf)\n",
        "recall_nb_tf = recall_score(y_test, nb_tf)\n",
        "\n",
        "print(classification_report(y_test, nb_tf))"
      ],
      "metadata": {
        "colab": {
          "base_uri": "https://localhost:8080/"
        },
        "id": "hsyMIpMsSVFe",
        "outputId": "1da1fc6d-c10d-409c-f793-94870713b48a"
      },
      "execution_count": 50,
      "outputs": [
        {
          "output_type": "stream",
          "name": "stdout",
          "text": [
            "              precision    recall  f1-score   support\n",
            "\n",
            "           0       0.99      0.97      0.98       748\n",
            "           1       0.86      0.95      0.91       152\n",
            "\n",
            "    accuracy                           0.97       900\n",
            "   macro avg       0.93      0.96      0.94       900\n",
            "weighted avg       0.97      0.97      0.97       900\n",
            "\n"
          ]
        }
      ]
    },
    {
      "cell_type": "markdown",
      "source": [
        "## Сравнение моделей"
      ],
      "metadata": {
        "id": "tGOeeeF5wH--"
      }
    },
    {
      "cell_type": "markdown",
      "source": [
        "Сравним все полученные модели более наглядно:"
      ],
      "metadata": {
        "id": "ymWmIE-_vSPY"
      }
    },
    {
      "cell_type": "code",
      "source": [
        "print(\"CountVectorizer\")\n",
        "print(\"\")\n",
        "print(\"Accuracy\")\n",
        "print(f'LogisticRegression: {round(accuracy_lr_counter, 4)}, DecisionTreeClasifier: {round(accuracy_dclf_counter, 4)}, Naive Bayes: {round(accuracy_nb_counter, 4)}')\n",
        "print(\"\")\n",
        "print(\"Recall\")\n",
        "print(f'LogisticRegression: {round(recall_lr_counter, 4)}, DecisionTreeClasifier: {round(recall_dclf_counter, 4)}, Naive Bayes: {round(recall_nb_counter, 4)}')"
      ],
      "metadata": {
        "colab": {
          "base_uri": "https://localhost:8080/",
          "height": 314
        },
        "id": "yp4zdtp9n2w3",
        "outputId": "98a46221-e74e-4865-f597-0538be885ec8"
      },
      "execution_count": 51,
      "outputs": [
        {
          "output_type": "stream",
          "name": "stdout",
          "text": [
            "CountVectorizer\n",
            "\n",
            "Accuracy\n"
          ]
        },
        {
          "output_type": "error",
          "ename": "NameError",
          "evalue": "ignored",
          "traceback": [
            "\u001b[0;31m---------------------------------------------------------------------------\u001b[0m",
            "\u001b[0;31mNameError\u001b[0m                                 Traceback (most recent call last)",
            "\u001b[0;32m<ipython-input-51-94c00cee2b7f>\u001b[0m in \u001b[0;36m<cell line: 4>\u001b[0;34m()\u001b[0m\n\u001b[1;32m      2\u001b[0m \u001b[0mprint\u001b[0m\u001b[0;34m(\u001b[0m\u001b[0;34m\"\"\u001b[0m\u001b[0;34m)\u001b[0m\u001b[0;34m\u001b[0m\u001b[0;34m\u001b[0m\u001b[0m\n\u001b[1;32m      3\u001b[0m \u001b[0mprint\u001b[0m\u001b[0;34m(\u001b[0m\u001b[0;34m\"Accuracy\"\u001b[0m\u001b[0;34m)\u001b[0m\u001b[0;34m\u001b[0m\u001b[0;34m\u001b[0m\u001b[0m\n\u001b[0;32m----> 4\u001b[0;31m \u001b[0mprint\u001b[0m\u001b[0;34m(\u001b[0m\u001b[0;34mf'LogisticRegression: {round(accuracy_lr_counter, 4)}, DecisionTreeClasifier: {round(accuracy_dclf_counter, 4)}, Naive Bayes: {round(accuracy_nb_counter, 4)}'\u001b[0m\u001b[0;34m)\u001b[0m\u001b[0;34m\u001b[0m\u001b[0;34m\u001b[0m\u001b[0m\n\u001b[0m\u001b[1;32m      5\u001b[0m \u001b[0mprint\u001b[0m\u001b[0;34m(\u001b[0m\u001b[0;34m\"\"\u001b[0m\u001b[0;34m)\u001b[0m\u001b[0;34m\u001b[0m\u001b[0;34m\u001b[0m\u001b[0m\n\u001b[1;32m      6\u001b[0m \u001b[0mprint\u001b[0m\u001b[0;34m(\u001b[0m\u001b[0;34m\"Recall\"\u001b[0m\u001b[0;34m)\u001b[0m\u001b[0;34m\u001b[0m\u001b[0;34m\u001b[0m\u001b[0m\n",
            "\u001b[0;31mNameError\u001b[0m: name 'accuracy_lr_counter' is not defined"
          ]
        }
      ]
    },
    {
      "cell_type": "code",
      "source": [
        "print(\"TfidfVectorizer\")\n",
        "print(\"\")\n",
        "print(\"Accuracy\")\n",
        "print(f'LogisticRegression: {round(accuracy_lr_tf, 4)}, DecisionTreeClasifier: {round(accuracy_dclf_tf, 4)}, Naive Bayes: {round(accuracy_nb_tf, 4)}')\n",
        "print(\"\")\n",
        "print(\"Recall\")\n",
        "print(f'LogisticRegression: {round(recall_lr_tf, 4)}, DecisionTreeClasifier: {round(recall_dclf_tf, 4)}, Naive Bayes: {round(recall_nb_tf, 4)}')"
      ],
      "metadata": {
        "colab": {
          "base_uri": "https://localhost:8080/",
          "height": 314
        },
        "id": "0gsRpkpMv_xw",
        "outputId": "62b15b42-6b05-4559-a5bd-b8dcfa64d14c"
      },
      "execution_count": 52,
      "outputs": [
        {
          "output_type": "stream",
          "name": "stdout",
          "text": [
            "TfidfVectorizer\n",
            "\n",
            "Accuracy\n"
          ]
        },
        {
          "output_type": "error",
          "ename": "NameError",
          "evalue": "ignored",
          "traceback": [
            "\u001b[0;31m---------------------------------------------------------------------------\u001b[0m",
            "\u001b[0;31mNameError\u001b[0m                                 Traceback (most recent call last)",
            "\u001b[0;32m<ipython-input-52-f47105a34c8b>\u001b[0m in \u001b[0;36m<cell line: 4>\u001b[0;34m()\u001b[0m\n\u001b[1;32m      2\u001b[0m \u001b[0mprint\u001b[0m\u001b[0;34m(\u001b[0m\u001b[0;34m\"\"\u001b[0m\u001b[0;34m)\u001b[0m\u001b[0;34m\u001b[0m\u001b[0;34m\u001b[0m\u001b[0m\n\u001b[1;32m      3\u001b[0m \u001b[0mprint\u001b[0m\u001b[0;34m(\u001b[0m\u001b[0;34m\"Accuracy\"\u001b[0m\u001b[0;34m)\u001b[0m\u001b[0;34m\u001b[0m\u001b[0;34m\u001b[0m\u001b[0m\n\u001b[0;32m----> 4\u001b[0;31m \u001b[0mprint\u001b[0m\u001b[0;34m(\u001b[0m\u001b[0;34mf'LogisticRegression: {round(accuracy_lr_tf, 4)}, DecisionTreeClasifier: {round(accuracy_dclf_tf, 4)}, Naive Bayes: {round(accuracy_nb_tf, 4)}'\u001b[0m\u001b[0;34m)\u001b[0m\u001b[0;34m\u001b[0m\u001b[0;34m\u001b[0m\u001b[0m\n\u001b[0m\u001b[1;32m      5\u001b[0m \u001b[0mprint\u001b[0m\u001b[0;34m(\u001b[0m\u001b[0;34m\"\"\u001b[0m\u001b[0;34m)\u001b[0m\u001b[0;34m\u001b[0m\u001b[0;34m\u001b[0m\u001b[0m\n\u001b[1;32m      6\u001b[0m \u001b[0mprint\u001b[0m\u001b[0;34m(\u001b[0m\u001b[0;34m\"Recall\"\u001b[0m\u001b[0;34m)\u001b[0m\u001b[0;34m\u001b[0m\u001b[0;34m\u001b[0m\u001b[0m\n",
            "\u001b[0;31mNameError\u001b[0m: name 'accuracy_lr_tf' is not defined"
          ]
        }
      ]
    },
    {
      "cell_type": "code",
      "source": [
        "end_time = time.time()\n",
        "\n",
        "execution_time = end_time - start_time\n",
        "print(f\"Время выполнения ноутбука: {execution_time // 60:.0f} минут(ы) {(execution_time - (execution_time // 60) * 60):.0f} секунд(ы)\")"
      ],
      "metadata": {
        "colab": {
          "base_uri": "https://localhost:8080/"
        },
        "id": "V7tdxgmZyGTf",
        "outputId": "7bb6bfcd-b3f0-4912-dad5-0a079bc43202"
      },
      "execution_count": null,
      "outputs": [
        {
          "output_type": "stream",
          "name": "stdout",
          "text": [
            "Время выполнения ноутбука: 1.00 минут 55.884095668792725\n"
          ]
        }
      ]
    }
  ],
  "metadata": {
    "colab": {
      "provenance": [],
      "toc_visible": true
    },
    "kernelspec": {
      "display_name": "Python 3",
      "name": "python3"
    },
    "language_info": {
      "name": "python"
    }
  },
  "nbformat": 4,
  "nbformat_minor": 0
}